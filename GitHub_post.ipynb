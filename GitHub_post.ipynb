{
 "cells": [
  {
   "cell_type": "code",
   "id": "initial_id",
   "metadata": {
    "collapsed": true,
    "ExecuteTime": {
     "end_time": "2025-02-02T06:08:26.229789Z",
     "start_time": "2025-02-02T06:08:22.249305Z"
    }
   },
   "source": [
    "import os\n",
    "import openai\n",
    "!pip install gitpython\n"
   ],
   "outputs": [
    {
     "name": "stdout",
     "output_type": "stream",
     "text": [
      "Requirement already satisfied: gitpython in h:\\05_pyton_project\\assistant_referee\\assistant_referee\\.venv\\lib\\site-packages (3.1.44)\n",
      "Requirement already satisfied: gitdb<5,>=4.0.1 in h:\\05_pyton_project\\assistant_referee\\assistant_referee\\.venv\\lib\\site-packages (from gitpython) (4.0.12)\n",
      "Requirement already satisfied: smmap<6,>=3.0.1 in h:\\05_pyton_project\\assistant_referee\\assistant_referee\\.venv\\lib\\site-packages (from gitdb<5,>=4.0.1->gitpython) (5.0.2)\n"
     ]
    }
   ],
   "execution_count": 1
  },
  {
   "metadata": {
    "ExecuteTime": {
     "end_time": "2025-02-02T06:08:31.665580Z",
     "start_time": "2025-02-02T06:08:31.661768Z"
    }
   },
   "cell_type": "code",
   "source": "openai.api_key = os.getenv('OPENAI_API_KEY')",
   "id": "eed82e2d5eab35b7",
   "outputs": [],
   "execution_count": 2
  },
  {
   "metadata": {
    "ExecuteTime": {
     "end_time": "2025-02-02T06:08:36.942140Z",
     "start_time": "2025-02-02T06:08:36.753584Z"
    }
   },
   "cell_type": "code",
   "source": "from git import Repo",
   "id": "d9e0e158389ada08",
   "outputs": [],
   "execution_count": 3
  },
  {
   "metadata": {
    "ExecuteTime": {
     "end_time": "2025-02-02T06:08:39.111085Z",
     "start_time": "2025-02-02T06:08:39.107983Z"
    }
   },
   "cell_type": "code",
   "source": "from pathlib import Path",
   "id": "3f3f12c8863b20f7",
   "outputs": [],
   "execution_count": 4
  },
  {
   "metadata": {
    "ExecuteTime": {
     "end_time": "2025-02-02T06:23:38.195637Z",
     "start_time": "2025-02-02T06:23:38.190326Z"
    }
   },
   "cell_type": "code",
   "source": "pwd",
   "id": "85cb136c4cd32c2e",
   "outputs": [
    {
     "data": {
      "text/plain": [
       "'H:\\\\02_AIWork\\\\GitHub\\\\Data'"
      ]
     },
     "execution_count": 10,
     "metadata": {},
     "output_type": "execute_result"
    }
   ],
   "execution_count": 10
  },
  {
   "metadata": {
    "ExecuteTime": {
     "end_time": "2025-02-02T06:24:47.434656Z",
     "start_time": "2025-02-02T06:24:47.430917Z"
    }
   },
   "cell_type": "code",
   "source": "PATH_TO_BLOG_REPO = Path(\"H:\\\\02_AIWork\\\\GitHub\\\\Data\\\\.git\")",
   "id": "279bc965a5f76cb1",
   "outputs": [],
   "execution_count": 15
  },
  {
   "metadata": {
    "ExecuteTime": {
     "end_time": "2025-02-02T06:24:48.533522Z",
     "start_time": "2025-02-02T06:24:48.529730Z"
    }
   },
   "cell_type": "code",
   "source": "PATH_TO_BLOG = PATH_TO_BLOG_REPO.parent",
   "id": "e07ce00b1f23e95b",
   "outputs": [],
   "execution_count": 16
  },
  {
   "metadata": {
    "ExecuteTime": {
     "end_time": "2025-02-02T06:26:52.698136Z",
     "start_time": "2025-02-02T06:26:52.694803Z"
    }
   },
   "cell_type": "code",
   "source": "PATH_TO_CONTENT = PATH_TO_BLOG/\"content\"",
   "id": "a74441fcb71a1347",
   "outputs": [],
   "execution_count": 17
  },
  {
   "metadata": {
    "ExecuteTime": {
     "end_time": "2025-02-02T06:37:45.144292Z",
     "start_time": "2025-02-02T06:37:45.137773Z"
    }
   },
   "cell_type": "code",
   "source": "PATH_TO_CONTENT",
   "id": "665a842c1ba59b24",
   "outputs": [
    {
     "data": {
      "text/plain": [
       "WindowsPath('H:/02_AIWork/GitHub/Data/content')"
      ]
     },
     "execution_count": 20,
     "metadata": {},
     "output_type": "execute_result"
    }
   ],
   "execution_count": 20
  },
  {
   "metadata": {
    "ExecuteTime": {
     "end_time": "2025-02-02T06:37:46.811613Z",
     "start_time": "2025-02-02T06:37:46.806983Z"
    }
   },
   "cell_type": "code",
   "source": "PATH_TO_CONTENT.mkdir(exist_ok=True, parents=True)",
   "id": "9a2dd39ed7259743",
   "outputs": [],
   "execution_count": 21
  },
  {
   "metadata": {
    "ExecuteTime": {
     "end_time": "2025-02-02T06:43:01.727500Z",
     "start_time": "2025-02-02T06:43:01.723266Z"
    }
   },
   "cell_type": "code",
   "source": [
    "def update_blog(commit_message='Updates blog'):\n",
    "    # GitPython -- Repo Location\n",
    "    repo = Repo(PATH_TO_BLOG_REPO)\n",
    "    # git add\n",
    "    repo.git.add(all=True)\n",
    "    # git commit -m \"updates blog\"\n",
    "    repo.index.commit(commit_message)\n",
    "    # git push\n",
    "    origin = repo.remote(name='origin')\n",
    "    origin.push()"
   ],
   "id": "f9a22db128da919",
   "outputs": [],
   "execution_count": 26
  },
  {
   "metadata": {
    "ExecuteTime": {
     "end_time": "2025-02-02T06:43:04.666374Z",
     "start_time": "2025-02-02T06:43:04.661799Z"
    }
   },
   "cell_type": "code",
   "source": "random_text_string = \"jakdfdjfkljasfljdjflsdajf\"",
   "id": "93fe143c8eb96425",
   "outputs": [],
   "execution_count": 27
  },
  {
   "metadata": {
    "ExecuteTime": {
     "end_time": "2025-02-02T06:43:07.492073Z",
     "start_time": "2025-02-02T06:43:07.485073Z"
    }
   },
   "cell_type": "code",
   "source": [
    "with open(PATH_TO_BLOG/\"index.html\", \"w\") as f:\n",
    "    f.write(random_text_string)"
   ],
   "id": "5586e5db597480fa",
   "outputs": [],
   "execution_count": 28
  },
  {
   "metadata": {
    "ExecuteTime": {
     "end_time": "2025-02-02T06:43:51.689452Z",
     "start_time": "2025-02-02T06:43:09.709375Z"
    }
   },
   "cell_type": "code",
   "source": "update_blog()",
   "id": "9a4bfddab58c3f7f",
   "outputs": [],
   "execution_count": 29
  },
  {
   "metadata": {
    "ExecuteTime": {
     "end_time": "2025-02-02T07:48:56.928263Z",
     "start_time": "2025-02-02T07:48:56.920747Z"
    }
   },
   "cell_type": "code",
   "source": [
    "import shutil\n",
    "def create_new_blog(title,content,cover_image):\n",
    "    cover_image = Path(cover_image)\n",
    "    files =len(list(PATH_TO_CONTENT.glob(\"*.html\")))\n",
    "    new_title = f\"{files+1}.html\"\n",
    "    path_to_new_content = PATH_TO_CONTENT/new_title\n",
    "    \n",
    "    shutil.copy(cover_image, PATH_TO_CONTENT)\n",
    "    \n",
    "    if not os.path.exists(path_to_new_content):\n",
    "        # WHITE A NEW HTML FILE\n",
    "        with open(path_to_new_content, \"w\") as f:\n",
    "            f.write('<!DOCTYPE html>\\n')\n",
    "            f.write('<html>\\n')\n",
    "            f.write('<head>\\n')\n",
    "            f.write('<meta charset=\"utf-8\">\\n')\n",
    "            f.write('<title>' + title + '</title>\\n')\n",
    "            f.write('</head>\\n')\n",
    "            \n",
    "            f.write('<body>\\n')\n",
    "            f.write(f\"<img src='{cover_image.name}' alt='Cover Image'> <br />\\n\")\n",
    "            f.write(f\"<h1> {title} </h1>\\n\")\n",
    "            # OpenAI --> Completion GPT --> \"hello\\nblog post\\n\"\n",
    "            f.write(content.replace(\"\\n\", \"<br />\\n\"))\n",
    "            f.write('</body>\\n')\n",
    "            f.write('</html>\\n')\n",
    "            print(\"Blog Created\")\n",
    "            return path_to_new_content\n",
    "            \n",
    "    else:\n",
    "        raise FileNotFoundError(\"File already exists, please check again you name! Aborting!\")\n",
    "    "
   ],
   "id": "46e0ca8686f62386",
   "outputs": [],
   "execution_count": 30
  },
  {
   "metadata": {
    "ExecuteTime": {
     "end_time": "2025-02-02T07:52:45.593295Z",
     "start_time": "2025-02-02T07:52:45.562979Z"
    }
   },
   "cell_type": "code",
   "source": "path_to_new_content = create_new_blog('Test_title','skdajfldjslkjdsf','example_download.png')",
   "id": "bf9924ec7ec65668",
   "outputs": [
    {
     "name": "stdout",
     "output_type": "stream",
     "text": [
      "Blog Created\n"
     ]
    }
   ],
   "execution_count": 31
  }
 ],
 "metadata": {
  "kernelspec": {
   "display_name": "Python 3",
   "language": "python",
   "name": "python3"
  },
  "language_info": {
   "codemirror_mode": {
    "name": "ipython",
    "version": 2
   },
   "file_extension": ".py",
   "mimetype": "text/x-python",
   "name": "python",
   "nbconvert_exporter": "python",
   "pygments_lexer": "ipython2",
   "version": "2.7.6"
  }
 },
 "nbformat": 4,
 "nbformat_minor": 5
}
