{
 "cells": [
  {
   "cell_type": "code",
   "id": "initial_id",
   "metadata": {
    "collapsed": true,
    "ExecuteTime": {
     "end_time": "2025-02-02T08:43:45.995060Z",
     "start_time": "2025-02-02T08:43:41.985652Z"
    }
   },
   "source": [
    "import os\n",
    "import openai\n",
    "from gitdb.util import write\n",
    "from sympy import content\n",
    "!pip install gitpython\n"
   ],
   "outputs": [
    {
     "name": "stdout",
     "output_type": "stream",
     "text": [
      "Requirement already satisfied: gitpython in h:\\05_pyton_project\\assistant_referee\\assistant_referee\\.venv\\lib\\site-packages (3.1.44)\n",
      "Requirement already satisfied: gitdb<5,>=4.0.1 in h:\\05_pyton_project\\assistant_referee\\assistant_referee\\.venv\\lib\\site-packages (from gitpython) (4.0.12)\n",
      "Requirement already satisfied: smmap<6,>=3.0.1 in h:\\05_pyton_project\\assistant_referee\\assistant_referee\\.venv\\lib\\site-packages (from gitdb<5,>=4.0.1->gitpython) (5.0.2)\n"
     ]
    }
   ],
   "execution_count": 64
  },
  {
   "metadata": {
    "ExecuteTime": {
     "end_time": "2025-02-02T08:43:46.013536Z",
     "start_time": "2025-02-02T08:43:46.010158Z"
    }
   },
   "cell_type": "code",
   "source": "openai.api_key = os.getenv('OPENAI_API_KEY')",
   "id": "eed82e2d5eab35b7",
   "outputs": [],
   "execution_count": 65
  },
  {
   "metadata": {
    "ExecuteTime": {
     "end_time": "2025-02-02T08:43:46.027489Z",
     "start_time": "2025-02-02T08:43:46.023688Z"
    }
   },
   "cell_type": "code",
   "source": "from git import Repo",
   "id": "d9e0e158389ada08",
   "outputs": [],
   "execution_count": 66
  },
  {
   "metadata": {
    "ExecuteTime": {
     "end_time": "2025-02-02T08:43:46.041682Z",
     "start_time": "2025-02-02T08:43:46.037493Z"
    }
   },
   "cell_type": "code",
   "source": "from pathlib import Path",
   "id": "3f3f12c8863b20f7",
   "outputs": [],
   "execution_count": 67
  },
  {
   "metadata": {
    "ExecuteTime": {
     "end_time": "2025-02-02T08:43:46.067387Z",
     "start_time": "2025-02-02T08:43:46.052350Z"
    }
   },
   "cell_type": "code",
   "source": "pwd",
   "id": "85cb136c4cd32c2e",
   "outputs": [
    {
     "data": {
      "text/plain": [
       "'H:\\\\02_AIWork\\\\GitHub\\\\Data'"
      ]
     },
     "execution_count": 68,
     "metadata": {},
     "output_type": "execute_result"
    }
   ],
   "execution_count": 68
  },
  {
   "metadata": {
    "ExecuteTime": {
     "end_time": "2025-02-02T08:43:46.098694Z",
     "start_time": "2025-02-02T08:43:46.095477Z"
    }
   },
   "cell_type": "code",
   "source": "PATH_TO_BLOG_REPO = Path(\"H:\\\\02_AIWork\\\\GitHub\\\\Data\\\\.git\")",
   "id": "279bc965a5f76cb1",
   "outputs": [],
   "execution_count": 69
  },
  {
   "metadata": {
    "ExecuteTime": {
     "end_time": "2025-02-02T08:43:46.129276Z",
     "start_time": "2025-02-02T08:43:46.108693Z"
    }
   },
   "cell_type": "code",
   "source": "PATH_TO_BLOG = PATH_TO_BLOG_REPO.parent",
   "id": "e07ce00b1f23e95b",
   "outputs": [],
   "execution_count": 70
  },
  {
   "metadata": {
    "ExecuteTime": {
     "end_time": "2025-02-02T08:43:46.142630Z",
     "start_time": "2025-02-02T08:43:46.138054Z"
    }
   },
   "cell_type": "code",
   "source": "PATH_TO_CONTENT = PATH_TO_BLOG/\"content\"",
   "id": "a74441fcb71a1347",
   "outputs": [],
   "execution_count": 71
  },
  {
   "metadata": {
    "ExecuteTime": {
     "end_time": "2025-02-02T08:43:46.158946Z",
     "start_time": "2025-02-02T08:43:46.154415Z"
    }
   },
   "cell_type": "code",
   "source": "PATH_TO_CONTENT",
   "id": "665a842c1ba59b24",
   "outputs": [
    {
     "data": {
      "text/plain": [
       "WindowsPath('H:/02_AIWork/GitHub/Data/content')"
      ]
     },
     "execution_count": 72,
     "metadata": {},
     "output_type": "execute_result"
    }
   ],
   "execution_count": 72
  },
  {
   "metadata": {
    "ExecuteTime": {
     "end_time": "2025-02-02T08:43:46.188423Z",
     "start_time": "2025-02-02T08:43:46.184115Z"
    }
   },
   "cell_type": "code",
   "source": "PATH_TO_CONTENT.mkdir(exist_ok=True, parents=True)",
   "id": "9a2dd39ed7259743",
   "outputs": [],
   "execution_count": 73
  },
  {
   "metadata": {
    "ExecuteTime": {
     "end_time": "2025-02-02T08:43:46.207424Z",
     "start_time": "2025-02-02T08:43:46.197137Z"
    }
   },
   "cell_type": "code",
   "source": [
    "def update_blog(commit_message='Updates blog'):\n",
    "    # GitPython -- Repo Location\n",
    "    repo = Repo(PATH_TO_BLOG_REPO)\n",
    "    # git add\n",
    "    repo.git.add(all=True)\n",
    "    # git commit -m \"updates blog\"\n",
    "    repo.index.commit(commit_message)\n",
    "    # git push\n",
    "    origin = repo.remote(name='origin')\n",
    "    origin.push()"
   ],
   "id": "f9a22db128da919",
   "outputs": [],
   "execution_count": 74
  },
  {
   "metadata": {
    "ExecuteTime": {
     "end_time": "2025-02-02T08:43:46.219884Z",
     "start_time": "2025-02-02T08:43:46.215869Z"
    }
   },
   "cell_type": "code",
   "source": "random_text_string = \"jakdfdjfkljasfljdjflsdajf\"",
   "id": "93fe143c8eb96425",
   "outputs": [],
   "execution_count": 75
  },
  {
   "metadata": {
    "ExecuteTime": {
     "end_time": "2025-02-02T08:43:46.234498Z",
     "start_time": "2025-02-02T08:43:46.228957Z"
    }
   },
   "cell_type": "code",
   "source": [
    "with open(PATH_TO_BLOG/\"index.html\", \"w\") as f:\n",
    "    f.write(random_text_string)"
   ],
   "id": "5586e5db597480fa",
   "outputs": [],
   "execution_count": 76
  },
  {
   "metadata": {
    "ExecuteTime": {
     "end_time": "2025-02-02T08:43:48.624186Z",
     "start_time": "2025-02-02T08:43:46.243720Z"
    }
   },
   "cell_type": "code",
   "source": "update_blog()",
   "id": "9a4bfddab58c3f7f",
   "outputs": [],
   "execution_count": 77
  },
  {
   "metadata": {
    "ExecuteTime": {
     "end_time": "2025-02-02T08:43:48.642175Z",
     "start_time": "2025-02-02T08:43:48.634703Z"
    }
   },
   "cell_type": "code",
   "source": [
    "import shutil\n",
    "def create_new_blog(title,content,cover_image):\n",
    "    cover_image = Path(cover_image)\n",
    "    files =len(list(PATH_TO_CONTENT.glob(\"*.html\")))\n",
    "    new_title = f\"{files+1}.html\"\n",
    "    path_to_new_content = PATH_TO_CONTENT/new_title\n",
    "    \n",
    "    shutil.copy(cover_image, PATH_TO_CONTENT)\n",
    "    \n",
    "    if not os.path.exists(path_to_new_content):\n",
    "        # WHITE A NEW HTML FILE\n",
    "        with open(path_to_new_content, \"w\") as f:\n",
    "            f.write('<!DOCTYPE html>\\n')\n",
    "            f.write('<html>\\n')\n",
    "            f.write('<head>\\n')\n",
    "            f.write('<meta charset=\"utf-8\">\\n')\n",
    "            f.write('<title>' + title + '</title>\\n')\n",
    "            f.write('</head>\\n')\n",
    "            \n",
    "            f.write('<body>\\n')\n",
    "            f.write(f\"<img src='{cover_image.name}' alt='Cover Image'> <br />\\n\")\n",
    "            f.write(f\"<h1> {title} </h1>\\n\")\n",
    "            # OpenAI --> Completion GPT --> \"hello\\nblog post\\n\"\n",
    "            f.write(content.replace(\"\\n\", \"<br />\\n\"))\n",
    "            f.write('</body>\\n')\n",
    "            f.write('</html>\\n')\n",
    "            print(\"Blog Created\")\n",
    "            return path_to_new_content\n",
    "            \n",
    "    else:\n",
    "        raise FileNotFoundError(\"File already exists, please check again you name! Aborting!\")\n",
    "    "
   ],
   "id": "46e0ca8686f62386",
   "outputs": [],
   "execution_count": 78
  },
  {
   "metadata": {
    "ExecuteTime": {
     "end_time": "2025-02-02T08:43:48.673964Z",
     "start_time": "2025-02-02T08:43:48.654203Z"
    }
   },
   "cell_type": "code",
   "source": "path_to_new_content = create_new_blog('Test_title','skdajfldjslkjdsf','example_download.png')",
   "id": "bf9924ec7ec65668",
   "outputs": [
    {
     "name": "stdout",
     "output_type": "stream",
     "text": [
      "Blog Created\n"
     ]
    }
   ],
   "execution_count": 79
  },
  {
   "metadata": {
    "ExecuteTime": {
     "end_time": "2025-02-02T08:43:48.702808Z",
     "start_time": "2025-02-02T08:43:48.699157Z"
    }
   },
   "cell_type": "code",
   "source": "#index.html ---> Blog post",
   "id": "7d37cd239fbf96ae",
   "outputs": [],
   "execution_count": 80
  },
  {
   "metadata": {
    "ExecuteTime": {
     "end_time": "2025-02-02T08:43:48.713097Z",
     "start_time": "2025-02-02T08:43:48.708809Z"
    }
   },
   "cell_type": "code",
   "source": "from bs4 import BeautifulSoup as Soup",
   "id": "fc1b87db04ee70f5",
   "outputs": [],
   "execution_count": 81
  },
  {
   "metadata": {
    "ExecuteTime": {
     "end_time": "2025-02-02T08:43:48.726777Z",
     "start_time": "2025-02-02T08:43:48.723496Z"
    }
   },
   "cell_type": "code",
   "source": "# pip install BeautifulSoup4",
   "id": "8ebd3a22548f4af2",
   "outputs": [],
   "execution_count": 82
  },
  {
   "metadata": {
    "ExecuteTime": {
     "end_time": "2025-02-02T08:43:48.749426Z",
     "start_time": "2025-02-02T08:43:48.737651Z"
    }
   },
   "cell_type": "code",
   "source": [
    "with open(PATH_TO_BLOG/\"index.html\") as index:\n",
    "    soup = Soup(index.read())"
   ],
   "id": "90aae2272c1d7375",
   "outputs": [],
   "execution_count": 83
  },
  {
   "metadata": {
    "ExecuteTime": {
     "end_time": "2025-02-02T08:43:48.766254Z",
     "start_time": "2025-02-02T08:43:48.761840Z"
    }
   },
   "cell_type": "code",
   "source": "str(soup)",
   "id": "940ffe5f0c113a5c",
   "outputs": [
    {
     "data": {
      "text/plain": [
       "'jakdfdjfkljasfljdjflsdajf'"
      ]
     },
     "execution_count": 84,
     "metadata": {},
     "output_type": "execute_result"
    }
   ],
   "execution_count": 84
  },
  {
   "metadata": {
    "ExecuteTime": {
     "end_time": "2025-02-02T08:43:48.793017Z",
     "start_time": "2025-02-02T08:43:48.788399Z"
    }
   },
   "cell_type": "code",
   "source": [
    "# checking duplicate links\n",
    "\n",
    "# write blog post link ---> index.html"
   ],
   "id": "4bd719ad1f7a8231",
   "outputs": [],
   "execution_count": 85
  },
  {
   "metadata": {
    "ExecuteTime": {
     "end_time": "2025-02-02T08:43:48.809202Z",
     "start_time": "2025-02-02T08:43:48.803109Z"
    }
   },
   "cell_type": "code",
   "source": [
    "def check_for_duplicate_links(path_to_new_content, links):\n",
    "    urls = [str(links.get(\"href\")) for links in links] #[1.html,2.html,3..html]\n",
    "    content_path = str(Path(*path_to_new_content.parts[-2:]))\n",
    "    return content_path in urls"
   ],
   "id": "e5cb9e505272ccfb",
   "outputs": [],
   "execution_count": 86
  },
  {
   "metadata": {
    "ExecuteTime": {
     "end_time": "2025-02-02T08:43:48.826831Z",
     "start_time": "2025-02-02T08:43:48.818840Z"
    }
   },
   "cell_type": "code",
   "source": [
    "def write_to_index(path_to_new_content):\n",
    "    with open(PATH_TO_BLOG/'index.html') as index:\n",
    "        soup = Soup(index.read())\n",
    "        \n",
    "    links = soup.find_all(\"a\")    \n",
    "    last_link = links[-1]\n",
    "    \n",
    "    if check_for_duplicate_links(path_to_new_content, links):\n",
    "        raise ValueError(\"Link already exists\")\n",
    "    links_to_new_blog = soup.new_tag(\"a\",href=Path(*path_to_new_content.parts[-2:]))\n",
    "    links_to_new_blog.string = path_to_new_content.name.split('.')[0]\n",
    "    last_link.insert_after(links_to_new_blog)\n",
    "    \n",
    "    with open(PATH_TO_BLOG/'index.html', 'w') as f:\n",
    "        f.write(str(soup.prettify(formatter=\"html\")))"
   ],
   "id": "974340f088d323a8",
   "outputs": [],
   "execution_count": 87
  },
  {
   "metadata": {
    "ExecuteTime": {
     "end_time": "2025-02-02T08:48:13.085406Z",
     "start_time": "2025-02-02T08:48:12.987204Z"
    }
   },
   "cell_type": "code",
   "source": "write_to_index(path_to_new_content)",
   "id": "f70c784da3a2a710",
   "outputs": [
    {
     "ename": "IndexError",
     "evalue": "list index out of range",
     "output_type": "error",
     "traceback": [
      "\u001B[1;31m---------------------------------------------------------------------------\u001B[0m",
      "\u001B[1;31mIndexError\u001B[0m                                Traceback (most recent call last)",
      "Cell \u001B[1;32mIn[91], line 1\u001B[0m\n\u001B[1;32m----> 1\u001B[0m \u001B[43mwrite_to_index\u001B[49m\u001B[43m(\u001B[49m\u001B[43mpath_to_new_content\u001B[49m\u001B[43m)\u001B[49m\n",
      "Cell \u001B[1;32mIn[87], line 6\u001B[0m, in \u001B[0;36mwrite_to_index\u001B[1;34m(path_to_new_content)\u001B[0m\n\u001B[0;32m      3\u001B[0m     soup \u001B[38;5;241m=\u001B[39m Soup(index\u001B[38;5;241m.\u001B[39mread())\n\u001B[0;32m      5\u001B[0m links \u001B[38;5;241m=\u001B[39m soup\u001B[38;5;241m.\u001B[39mfind_all(\u001B[38;5;124m\"\u001B[39m\u001B[38;5;124ma\u001B[39m\u001B[38;5;124m\"\u001B[39m)    \n\u001B[1;32m----> 6\u001B[0m last_link \u001B[38;5;241m=\u001B[39m \u001B[43mlinks\u001B[49m\u001B[43m[\u001B[49m\u001B[38;5;241;43m-\u001B[39;49m\u001B[38;5;241;43m1\u001B[39;49m\u001B[43m]\u001B[49m\n\u001B[0;32m      8\u001B[0m \u001B[38;5;28;01mif\u001B[39;00m check_for_duplicate_links(path_to_new_content, links):\n\u001B[0;32m      9\u001B[0m     \u001B[38;5;28;01mraise\u001B[39;00m \u001B[38;5;167;01mValueError\u001B[39;00m(\u001B[38;5;124m\"\u001B[39m\u001B[38;5;124mLink already exists\u001B[39m\u001B[38;5;124m\"\u001B[39m)\n",
      "\u001B[1;31mIndexError\u001B[0m: list index out of range"
     ]
    }
   ],
   "execution_count": 91
  },
  {
   "metadata": {
    "ExecuteTime": {
     "end_time": "2025-02-02T08:43:49.006740700Z",
     "start_time": "2025-02-02T08:40:45.703237Z"
    }
   },
   "cell_type": "code",
   "source": "update_blog()",
   "id": "f98f186ea769a16a",
   "outputs": [],
   "execution_count": 63
  },
  {
   "metadata": {},
   "cell_type": "code",
   "outputs": [],
   "execution_count": null,
   "source": "",
   "id": "7461ddf12d877bc8"
  }
 ],
 "metadata": {
  "kernelspec": {
   "display_name": "Python 3",
   "language": "python",
   "name": "python3"
  },
  "language_info": {
   "codemirror_mode": {
    "name": "ipython",
    "version": 2
   },
   "file_extension": ".py",
   "mimetype": "text/x-python",
   "name": "python",
   "nbconvert_exporter": "python",
   "pygments_lexer": "ipython2",
   "version": "2.7.6"
  }
 },
 "nbformat": 4,
 "nbformat_minor": 5
}
