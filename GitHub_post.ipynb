{
 "cells": [
  {
   "cell_type": "code",
   "id": "initial_id",
   "metadata": {
    "collapsed": true,
    "ExecuteTime": {
     "end_time": "2025-02-03T04:23:50.432522Z",
     "start_time": "2025-02-03T04:23:46.677324Z"
    }
   },
   "source": [
    "import os\n",
    "import openai\n",
    "from gitdb.util import write\n",
    "from sympy import content\n",
    "!pip install gitpython\n"
   ],
   "outputs": [
    {
     "name": "stdout",
     "output_type": "stream",
     "text": [
      "Requirement already satisfied: gitpython in h:\\05_pyton_project\\assistant_referee\\assistant_referee\\.venv\\lib\\site-packages (3.1.44)\n",
      "Requirement already satisfied: gitdb<5,>=4.0.1 in h:\\05_pyton_project\\assistant_referee\\assistant_referee\\.venv\\lib\\site-packages (from gitpython) (4.0.12)\n",
      "Requirement already satisfied: smmap<6,>=3.0.1 in h:\\05_pyton_project\\assistant_referee\\assistant_referee\\.venv\\lib\\site-packages (from gitdb<5,>=4.0.1->gitpython) (5.0.2)\n"
     ]
    }
   ],
   "execution_count": 231
  },
  {
   "metadata": {
    "ExecuteTime": {
     "end_time": "2025-02-03T04:23:52.733530Z",
     "start_time": "2025-02-03T04:23:52.729526Z"
    }
   },
   "cell_type": "code",
   "source": "openai.api_key = os.getenv('OPENAI_API_KEY')",
   "id": "eed82e2d5eab35b7",
   "outputs": [],
   "execution_count": 232
  },
  {
   "metadata": {
    "ExecuteTime": {
     "end_time": "2025-02-03T04:23:54.100271Z",
     "start_time": "2025-02-03T04:23:54.094230Z"
    }
   },
   "cell_type": "code",
   "source": "from git import Repo",
   "id": "d9e0e158389ada08",
   "outputs": [],
   "execution_count": 233
  },
  {
   "metadata": {
    "ExecuteTime": {
     "end_time": "2025-02-03T04:23:55.317078Z",
     "start_time": "2025-02-03T04:23:55.312553Z"
    }
   },
   "cell_type": "code",
   "source": "from pathlib import Path",
   "id": "3f3f12c8863b20f7",
   "outputs": [],
   "execution_count": 234
  },
  {
   "metadata": {
    "ExecuteTime": {
     "end_time": "2025-02-03T04:23:56.938627Z",
     "start_time": "2025-02-03T04:23:56.933180Z"
    }
   },
   "cell_type": "code",
   "source": "pwd",
   "id": "85cb136c4cd32c2e",
   "outputs": [
    {
     "data": {
      "text/plain": [
       "'H:\\\\02_AIWork\\\\GitHub\\\\Data'"
      ]
     },
     "execution_count": 235,
     "metadata": {},
     "output_type": "execute_result"
    }
   ],
   "execution_count": 235
  },
  {
   "metadata": {
    "ExecuteTime": {
     "end_time": "2025-02-03T04:23:59.993576Z",
     "start_time": "2025-02-03T04:23:59.989924Z"
    }
   },
   "cell_type": "code",
   "source": "PATH_TO_BLOG = Path(\"H:\\\\02_AIWork\\\\GitHub\\\\Data\")",
   "id": "279bc965a5f76cb1",
   "outputs": [],
   "execution_count": 236
  },
  {
   "metadata": {
    "ExecuteTime": {
     "end_time": "2025-02-03T04:24:01.839371Z",
     "start_time": "2025-02-03T04:24:01.835698Z"
    }
   },
   "cell_type": "code",
   "source": "PATH_TO_BLOG = PATH_TO_BLOG_REPO.parent",
   "id": "e07ce00b1f23e95b",
   "outputs": [],
   "execution_count": 237
  },
  {
   "metadata": {
    "ExecuteTime": {
     "end_time": "2025-02-03T04:24:04.075911Z",
     "start_time": "2025-02-03T04:24:04.071688Z"
    }
   },
   "cell_type": "code",
   "source": "PATH_TO_CONTENT = PATH_TO_BLOG/\"content\"",
   "id": "a74441fcb71a1347",
   "outputs": [],
   "execution_count": 238
  },
  {
   "metadata": {
    "ExecuteTime": {
     "end_time": "2025-02-03T04:24:06.022578Z",
     "start_time": "2025-02-03T04:24:06.016317Z"
    }
   },
   "cell_type": "code",
   "source": "PATH_TO_CONTENT",
   "id": "665a842c1ba59b24",
   "outputs": [
    {
     "data": {
      "text/plain": [
       "WindowsPath('H:/02_AIWork/GitHub/Data/content')"
      ]
     },
     "execution_count": 239,
     "metadata": {},
     "output_type": "execute_result"
    }
   ],
   "execution_count": 239
  },
  {
   "metadata": {
    "ExecuteTime": {
     "end_time": "2025-02-03T04:24:09.336764Z",
     "start_time": "2025-02-03T04:24:09.331773Z"
    }
   },
   "cell_type": "code",
   "source": "PATH_TO_CONTENT.mkdir(exist_ok=True, parents=True)",
   "id": "9a2dd39ed7259743",
   "outputs": [],
   "execution_count": 240
  },
  {
   "metadata": {
    "ExecuteTime": {
     "end_time": "2025-02-03T04:24:12.918642Z",
     "start_time": "2025-02-03T04:24:12.913546Z"
    }
   },
   "cell_type": "code",
   "source": [
    "def update_blog(commit_message='Updates blog'):\n",
    "    # Открываем репозиторий Git\n",
    "    repo = Repo(PATH_TO_BLOG)\n",
    "    # git add\n",
    "    repo.git.add(A=True) # или repo.git.add(\".\")\n",
    "    # Создаем коммит\n",
    "    repo.index.commit(commit_message)\n",
    "    # Отправляем изменения в удаленный репозиторий\n",
    "    origin = repo.remote(name='origin')\n",
    "    origin.push()"
   ],
   "id": "f9a22db128da919",
   "outputs": [],
   "execution_count": 241
  },
  {
   "metadata": {
    "ExecuteTime": {
     "end_time": "2025-02-03T04:24:15.648850Z",
     "start_time": "2025-02-03T04:24:15.645163Z"
    }
   },
   "cell_type": "code",
   "source": "random_text_string = \"jakdfdjfkljasfljdjflsdajf\"",
   "id": "93fe143c8eb96425",
   "outputs": [],
   "execution_count": 242
  },
  {
   "metadata": {
    "ExecuteTime": {
     "end_time": "2025-02-03T04:24:19.596072Z",
     "start_time": "2025-02-03T04:24:19.589459Z"
    }
   },
   "cell_type": "code",
   "source": [
    "with open(PATH_TO_BLOG/\"index.html\", \"w\") as f:\n",
    "    f.write(random_text_string)"
   ],
   "id": "5586e5db597480fa",
   "outputs": [],
   "execution_count": 243
  },
  {
   "metadata": {
    "ExecuteTime": {
     "end_time": "2025-02-03T02:09:19.878340Z",
     "start_time": "2025-02-03T02:09:16.936645Z"
    }
   },
   "cell_type": "code",
   "source": "update_blog()",
   "id": "9a4bfddab58c3f7f",
   "outputs": [],
   "execution_count": 217
  },
  {
   "metadata": {
    "ExecuteTime": {
     "end_time": "2025-02-03T02:09:19.915445Z",
     "start_time": "2025-02-03T02:09:19.889295Z"
    }
   },
   "cell_type": "code",
   "source": [
    "import shutil\n",
    "def create_new_blog(title,content,cover_image):\n",
    "    cover_image = Path(cover_image)\n",
    "    \n",
    "    # Проверяем, есть ли файлы .html\n",
    "    existing_files = list(PATH_TO_CONTENT.glob(\"*.html\"))\n",
    "    \n",
    "    files = len(existing_files)  # Количество существующих блогов\n",
    "    new_title = f\"{files+1}.html\"\n",
    "    path_to_new_content = PATH_TO_CONTENT / new_title\n",
    "    \n",
    "    shutil.copy(cover_image, PATH_TO_CONTENT)\n",
    "    \n",
    "    if not os.path.exists(path_to_new_content):\n",
    "        # WHITE A NEW HTML FILE\n",
    "        with open(path_to_new_content, \"w\") as f:\n",
    "            f.write(\"<!DOCTYPE html>\\n\")\n",
    "            f.write(\"<html>\\n\")\n",
    "            f.write(\"<head>\\n\")\n",
    "            f.write(\"<title>\" + title + \"</title>\\n\")\n",
    "            f.write(\"</head>\\n\")\n",
    "            \n",
    "            f.write(\"<body>\\n\")\n",
    "            f.write(f\"<img src='{cover_image.name}' alt='Cover Image'> <br />\\n\")\n",
    "            f.write(f\"<h1> {title} </h1>\\n\")\n",
    "            # OpenAI --> Completion GPT --> \"hello\\nblog post\\n\"\n",
    "            f.write(content.replace(\"\\n\", \"<br />\\n\"))\n",
    "            f.write(\"</body>\\n\")\n",
    "            f.write(\"</html>\\n\")\n",
    "            print(\"Blog Created\")\n",
    "            return path_to_new_content\n",
    "            \n",
    "    else:\n",
    "        raise FileNotFoundError(\"Файл уже существует, пожалуйста, проверьте еще раз свое имя! Отмена!\")\n",
    "    "
   ],
   "id": "46e0ca8686f62386",
   "outputs": [],
   "execution_count": 218
  },
  {
   "metadata": {
    "ExecuteTime": {
     "end_time": "2025-02-03T02:09:19.963031Z",
     "start_time": "2025-02-03T02:09:19.930994Z"
    }
   },
   "cell_type": "code",
   "source": "path_to_new_content = create_new_blog('Test_title','skdajfldjslkjdsf','example_download.png')",
   "id": "bf9924ec7ec65668",
   "outputs": [
    {
     "name": "stdout",
     "output_type": "stream",
     "text": [
      "Blog Created\n"
     ]
    }
   ],
   "execution_count": 219
  },
  {
   "metadata": {
    "ExecuteTime": {
     "end_time": "2025-02-03T02:09:19.988522Z",
     "start_time": "2025-02-03T02:09:19.984077Z"
    }
   },
   "cell_type": "code",
   "source": "#index.html ---> Blog post",
   "id": "7d37cd239fbf96ae",
   "outputs": [],
   "execution_count": 220
  },
  {
   "metadata": {
    "ExecuteTime": {
     "end_time": "2025-02-03T02:09:20.009032Z",
     "start_time": "2025-02-03T02:09:20.003557Z"
    }
   },
   "cell_type": "code",
   "source": "from bs4 import BeautifulSoup as Soup",
   "id": "fc1b87db04ee70f5",
   "outputs": [],
   "execution_count": 221
  },
  {
   "metadata": {
    "ExecuteTime": {
     "end_time": "2025-02-03T02:09:20.026752Z",
     "start_time": "2025-02-03T02:09:20.021864Z"
    }
   },
   "cell_type": "code",
   "source": "# pip install BeautifulSoup4",
   "id": "8ebd3a22548f4af2",
   "outputs": [],
   "execution_count": 222
  },
  {
   "metadata": {
    "ExecuteTime": {
     "end_time": "2025-02-03T02:09:20.053245Z",
     "start_time": "2025-02-03T02:09:20.039117Z"
    }
   },
   "cell_type": "code",
   "source": [
    "with open(PATH_TO_BLOG/\"index.html\") as index:\n",
    "    soup = Soup(index.read())"
   ],
   "id": "90aae2272c1d7375",
   "outputs": [],
   "execution_count": 223
  },
  {
   "metadata": {
    "ExecuteTime": {
     "end_time": "2025-02-03T04:21:35.495101Z",
     "start_time": "2025-02-03T04:21:35.472976Z"
    }
   },
   "cell_type": "code",
   "source": "str(soup)",
   "id": "940ffe5f0c113a5c",
   "outputs": [
    {
     "data": {
      "text/plain": [
       "'jakdfdjfkljasfljdjflsdajf'"
      ]
     },
     "execution_count": 230,
     "metadata": {},
     "output_type": "execute_result"
    }
   ],
   "execution_count": 230
  },
  {
   "metadata": {
    "ExecuteTime": {
     "end_time": "2025-02-03T02:09:20.111174Z",
     "start_time": "2025-02-03T02:09:20.106948Z"
    }
   },
   "cell_type": "code",
   "source": [
    "# checking duplicate links\n",
    "\n",
    "# write blog post link ---> index.html"
   ],
   "id": "4bd719ad1f7a8231",
   "outputs": [],
   "execution_count": 225
  },
  {
   "metadata": {
    "ExecuteTime": {
     "end_time": "2025-02-03T02:09:20.127652Z",
     "start_time": "2025-02-03T02:09:20.122726Z"
    }
   },
   "cell_type": "code",
   "source": [
    "def check_for_duplicate_links(path_to_new_content, links):\n",
    "    if not links:  # Если `links` пуст, то нет дубликатов\n",
    "        return False\n",
    "\n",
    "    urls = [str(link.get(\"href\")) for link in links]  # Теперь эта строка безопасна\n",
    "    content_path = str(Path(*path_to_new_content.parts[-2:]))\n",
    "    \n",
    "    return content_path in urls\n"
   ],
   "id": "e5cb9e505272ccfb",
   "outputs": [],
   "execution_count": 226
  },
  {
   "metadata": {
    "ExecuteTime": {
     "end_time": "2025-02-03T02:09:20.147492Z",
     "start_time": "2025-02-03T02:09:20.138734Z"
    }
   },
   "cell_type": "code",
   "source": [
    "def write_to_index(path_to_new_content):\n",
    "    with open(PATH_TO_BLOG/'index.html') as index:\n",
    "        soup = Soup(index.read())\n",
    "        \n",
    "    links = soup.find_all(\"a\")    \n",
    "    \n",
    "    # Проверяем, есть ли ссылки в файле index.html\n",
    "    if not links:\n",
    "        print(\"⚠ Внимание: В index.html нет ссылок! Добавляем первую ссылку.\")\n",
    "        with open(PATH_TO_BLOG/'index.html', 'w') as f:\n",
    "            f.write(f'<a href=\"{Path(*path_to_new_content.parts[-2:])}\">{path_to_new_content.name.split(\".\")[0]}</a>\\n')\n",
    "        return\n",
    "    \n",
    "    last_link = links[-1]  # Теперь эта строка безопасна\n",
    "\n",
    "    if check_for_duplicate_links(path_to_new_content, links):\n",
    "        raise ValueError(\"❌ Ошибка: Ссылка уже существует!\")\n",
    "\n",
    "    # Создаем новую ссылку\n",
    "    links_to_new_blog = soup.new_tag(\"a\", href=Path(*path_to_new_content.parts[-2:]))\n",
    "    links_to_new_blog.string = path_to_new_content.name.split('.')[0]\n",
    "\n",
    "    last_link.insert_after(links_to_new_blog)  # Вставляем новую ссылку\n",
    "\n",
    "    # Записываем обновленный index.html\n",
    "    with open(PATH_TO_BLOG/'index.html', 'w') as f:\n",
    "        f.write(str(soup.prettify(formatter=\"html\")))\n",
    "\n",
    "    print(\"✅ Ссылка успешно добавлена в index.html!\")\n"
   ],
   "id": "974340f088d323a8",
   "outputs": [],
   "execution_count": 227
  },
  {
   "metadata": {
    "ExecuteTime": {
     "end_time": "2025-02-03T02:09:20.170940Z",
     "start_time": "2025-02-03T02:09:20.163467Z"
    }
   },
   "cell_type": "code",
   "source": "write_to_index(path_to_new_content)",
   "id": "f70c784da3a2a710",
   "outputs": [
    {
     "name": "stdout",
     "output_type": "stream",
     "text": [
      "⚠ Внимание: В index.html нет ссылок! Добавляем первую ссылку.\n"
     ]
    }
   ],
   "execution_count": 228
  },
  {
   "metadata": {
    "ExecuteTime": {
     "end_time": "2025-02-03T02:09:22.635313Z",
     "start_time": "2025-02-03T02:09:20.269754Z"
    }
   },
   "cell_type": "code",
   "source": "update_blog()",
   "id": "f98f186ea769a16a",
   "outputs": [],
   "execution_count": 229
  },
  {
   "metadata": {
    "ExecuteTime": {
     "end_time": "2025-02-03T02:09:22.649779Z",
     "start_time": "2025-02-03T02:09:22.645941Z"
    }
   },
   "cell_type": "code",
   "source": "",
   "id": "7461ddf12d877bc8",
   "outputs": [],
   "execution_count": null
  }
 ],
 "metadata": {
  "kernelspec": {
   "display_name": "Python 3",
   "language": "python",
   "name": "python3"
  },
  "language_info": {
   "codemirror_mode": {
    "name": "ipython",
    "version": 2
   },
   "file_extension": ".py",
   "mimetype": "text/x-python",
   "name": "python",
   "nbconvert_exporter": "python",
   "pygments_lexer": "ipython2",
   "version": "2.7.6"
  }
 },
 "nbformat": 4,
 "nbformat_minor": 5
}
