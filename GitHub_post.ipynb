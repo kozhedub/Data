{
 "cells": [
  {
   "cell_type": "code",
   "id": "initial_id",
   "metadata": {
    "collapsed": true,
    "ExecuteTime": {
     "end_time": "2025-02-02T06:08:26.229789Z",
     "start_time": "2025-02-02T06:08:22.249305Z"
    }
   },
   "source": [
    "import os\n",
    "import openai\n",
    "!pip install gitpython\n"
   ],
   "outputs": [
    {
     "name": "stdout",
     "output_type": "stream",
     "text": [
      "Requirement already satisfied: gitpython in h:\\05_pyton_project\\assistant_referee\\assistant_referee\\.venv\\lib\\site-packages (3.1.44)\n",
      "Requirement already satisfied: gitdb<5,>=4.0.1 in h:\\05_pyton_project\\assistant_referee\\assistant_referee\\.venv\\lib\\site-packages (from gitpython) (4.0.12)\n",
      "Requirement already satisfied: smmap<6,>=3.0.1 in h:\\05_pyton_project\\assistant_referee\\assistant_referee\\.venv\\lib\\site-packages (from gitdb<5,>=4.0.1->gitpython) (5.0.2)\n"
     ]
    }
   ],
   "execution_count": 1
  },
  {
   "metadata": {
    "ExecuteTime": {
     "end_time": "2025-02-02T06:08:31.665580Z",
     "start_time": "2025-02-02T06:08:31.661768Z"
    }
   },
   "cell_type": "code",
   "source": "openai.api_key = os.getenv('OPENAI_API_KEY')",
   "id": "eed82e2d5eab35b7",
   "outputs": [],
   "execution_count": 2
  },
  {
   "metadata": {
    "ExecuteTime": {
     "end_time": "2025-02-02T06:08:36.942140Z",
     "start_time": "2025-02-02T06:08:36.753584Z"
    }
   },
   "cell_type": "code",
   "source": "from git import Repo",
   "id": "d9e0e158389ada08",
   "outputs": [],
   "execution_count": 3
  },
  {
   "metadata": {
    "ExecuteTime": {
     "end_time": "2025-02-02T06:08:39.111085Z",
     "start_time": "2025-02-02T06:08:39.107983Z"
    }
   },
   "cell_type": "code",
   "source": "from pathlib import Path",
   "id": "3f3f12c8863b20f7",
   "outputs": [],
   "execution_count": 4
  },
  {
   "metadata": {
    "ExecuteTime": {
     "end_time": "2025-02-02T06:23:38.195637Z",
     "start_time": "2025-02-02T06:23:38.190326Z"
    }
   },
   "cell_type": "code",
   "source": "pwd",
   "id": "85cb136c4cd32c2e",
   "outputs": [
    {
     "data": {
      "text/plain": [
       "'H:\\\\02_AIWork\\\\GitHub\\\\Data'"
      ]
     },
     "execution_count": 10,
     "metadata": {},
     "output_type": "execute_result"
    }
   ],
   "execution_count": 10
  },
  {
   "metadata": {
    "ExecuteTime": {
     "end_time": "2025-02-02T06:24:47.434656Z",
     "start_time": "2025-02-02T06:24:47.430917Z"
    }
   },
   "cell_type": "code",
   "source": "PATH_TO_BLOG_REPO = Path(\"H:\\\\02_AIWork\\\\GitHub\\\\Data\\\\.git\")",
   "id": "279bc965a5f76cb1",
   "outputs": [],
   "execution_count": 15
  },
  {
   "metadata": {
    "ExecuteTime": {
     "end_time": "2025-02-02T06:24:48.533522Z",
     "start_time": "2025-02-02T06:24:48.529730Z"
    }
   },
   "cell_type": "code",
   "source": "PATH_TO_BLOG = PATH_TO_BLOG_REPO.parent",
   "id": "e07ce00b1f23e95b",
   "outputs": [],
   "execution_count": 16
  },
  {
   "metadata": {
    "ExecuteTime": {
     "end_time": "2025-02-02T06:26:52.698136Z",
     "start_time": "2025-02-02T06:26:52.694803Z"
    }
   },
   "cell_type": "code",
   "source": "PATH_TO_CONTENT = PATH_TO_BLOG/\"content\"",
   "id": "a74441fcb71a1347",
   "outputs": [],
   "execution_count": 17
  },
  {
   "metadata": {
    "ExecuteTime": {
     "end_time": "2025-02-02T06:37:45.144292Z",
     "start_time": "2025-02-02T06:37:45.137773Z"
    }
   },
   "cell_type": "code",
   "source": "PATH_TO_CONTENT",
   "id": "665a842c1ba59b24",
   "outputs": [
    {
     "data": {
      "text/plain": [
       "WindowsPath('H:/02_AIWork/GitHub/Data/content')"
      ]
     },
     "execution_count": 20,
     "metadata": {},
     "output_type": "execute_result"
    }
   ],
   "execution_count": 20
  },
  {
   "metadata": {
    "ExecuteTime": {
     "end_time": "2025-02-02T06:37:46.811613Z",
     "start_time": "2025-02-02T06:37:46.806983Z"
    }
   },
   "cell_type": "code",
   "source": "PATH_TO_CONTENT.mkdir(exist_ok=True, parents=True)",
   "id": "9a2dd39ed7259743",
   "outputs": [],
   "execution_count": 21
  },
  {
   "metadata": {
    "ExecuteTime": {
     "end_time": "2025-02-02T06:43:01.727500Z",
     "start_time": "2025-02-02T06:43:01.723266Z"
    }
   },
   "cell_type": "code",
   "source": [
    "def update_blog(commit_message='Updates blog'):\n",
    "    # GitPython -- Repo Location\n",
    "    repo = Repo(PATH_TO_BLOG_REPO)\n",
    "    # git add\n",
    "    repo.git.add(all=True)\n",
    "    # git commit -m \"updates blog\"\n",
    "    repo.index.commit(commit_message)\n",
    "    # git push\n",
    "    origin = repo.remote(name='origin')\n",
    "    origin.push()"
   ],
   "id": "f9a22db128da919",
   "outputs": [],
   "execution_count": 26
  },
  {
   "metadata": {
    "ExecuteTime": {
     "end_time": "2025-02-02T06:43:04.666374Z",
     "start_time": "2025-02-02T06:43:04.661799Z"
    }
   },
   "cell_type": "code",
   "source": "random_text_string = \"jakdfdjfkljasfljdjflsdajf\"",
   "id": "93fe143c8eb96425",
   "outputs": [],
   "execution_count": 27
  },
  {
   "metadata": {
    "ExecuteTime": {
     "end_time": "2025-02-02T06:43:07.492073Z",
     "start_time": "2025-02-02T06:43:07.485073Z"
    }
   },
   "cell_type": "code",
   "source": [
    "with open(PATH_TO_BLOG/\"index.html\", \"w\") as f:\n",
    "    f.write(random_text_string)"
   ],
   "id": "5586e5db597480fa",
   "outputs": [],
   "execution_count": 28
  },
  {
   "metadata": {
    "ExecuteTime": {
     "end_time": "2025-02-02T06:41:06.966399Z",
     "start_time": "2025-02-02T06:41:06.331921Z"
    }
   },
   "cell_type": "code",
   "source": "update_blog()",
   "id": "9a4bfddab58c3f7f",
   "outputs": [
    {
     "ename": "GitCommandError",
     "evalue": "Cmd('git') failed due to: exit code(129)\n  cmdline: git add --All\n  stderr: 'error: unknown option `All'\nusage: git add [<options>] [--] <pathspec>...\n\n    -n, --[no-]dry-run    dry run\n    -v, --[no-]verbose    be verbose\n\n    -i, --[no-]interactive\n                          interactive picking\n    -p, --[no-]patch      select hunks interactively\n    -e, --[no-]edit       edit current diff and apply\n    -f, --[no-]force      allow adding otherwise ignored files\n    -u, --[no-]update     update tracked files\n    --[no-]renormalize    renormalize EOL of tracked files (implies -u)\n    -N, --[no-]intent-to-add\n                          record only the fact that the path will be added later\n    -A, --[no-]all        add changes from all tracked and untracked files\n    --[no-]ignore-removal ignore paths removed in the working tree (same as --no-all)\n    --[no-]refresh        don't add, only refresh the index\n    --[no-]ignore-errors  just skip files which cannot be added because of errors\n    --[no-]ignore-missing check if - even missing - files are ignored in dry run\n    --[no-]sparse         allow updating entries outside of the sparse-checkout cone\n    --[no-]chmod (+|-)x   override the executable bit of the listed files\n    --[no-]pathspec-from-file <file>\n                          read pathspec from file\n    --[no-]pathspec-file-nul\n                          with --pathspec-from-file, pathspec elements are separated with NUL character\n'",
     "output_type": "error",
     "traceback": [
      "\u001B[1;31m---------------------------------------------------------------------------\u001B[0m",
      "\u001B[1;31mGitCommandError\u001B[0m                           Traceback (most recent call last)",
      "Cell \u001B[1;32mIn[25], line 1\u001B[0m\n\u001B[1;32m----> 1\u001B[0m \u001B[43mupdate_blog\u001B[49m\u001B[43m(\u001B[49m\u001B[43m)\u001B[49m\n",
      "Cell \u001B[1;32mIn[22], line 5\u001B[0m, in \u001B[0;36mupdate_blog\u001B[1;34m(commit_message)\u001B[0m\n\u001B[0;32m      3\u001B[0m repo \u001B[38;5;241m=\u001B[39m Repo(PATH_TO_BLOG_REPO)\n\u001B[0;32m      4\u001B[0m \u001B[38;5;66;03m# git add\u001B[39;00m\n\u001B[1;32m----> 5\u001B[0m \u001B[43mrepo\u001B[49m\u001B[38;5;241;43m.\u001B[39;49m\u001B[43mgit\u001B[49m\u001B[38;5;241;43m.\u001B[39;49m\u001B[43madd\u001B[49m\u001B[43m(\u001B[49m\u001B[43mAll\u001B[49m\u001B[38;5;241;43m=\u001B[39;49m\u001B[38;5;28;43;01mTrue\u001B[39;49;00m\u001B[43m)\u001B[49m\n\u001B[0;32m      6\u001B[0m \u001B[38;5;66;03m# git commit -m \"updates blog\"\u001B[39;00m\n\u001B[0;32m      7\u001B[0m repo\u001B[38;5;241m.\u001B[39mindex\u001B[38;5;241m.\u001B[39mcommit(commit_message)\n",
      "File \u001B[1;32mH:\\05_Pyton_Project\\Assistant_referee\\Assistant_referee\\.venv\\Lib\\site-packages\\git\\cmd.py:986\u001B[0m, in \u001B[0;36mGit.__getattr__.<locals>.<lambda>\u001B[1;34m(*args, **kwargs)\u001B[0m\n\u001B[0;32m    984\u001B[0m \u001B[38;5;28;01mif\u001B[39;00m name\u001B[38;5;241m.\u001B[39mstartswith(\u001B[38;5;124m\"\u001B[39m\u001B[38;5;124m_\u001B[39m\u001B[38;5;124m\"\u001B[39m):\n\u001B[0;32m    985\u001B[0m     \u001B[38;5;28;01mreturn\u001B[39;00m \u001B[38;5;28msuper\u001B[39m()\u001B[38;5;241m.\u001B[39m\u001B[38;5;21m__getattribute__\u001B[39m(name)\n\u001B[1;32m--> 986\u001B[0m \u001B[38;5;28;01mreturn\u001B[39;00m \u001B[38;5;28;01mlambda\u001B[39;00m \u001B[38;5;241m*\u001B[39margs, \u001B[38;5;241m*\u001B[39m\u001B[38;5;241m*\u001B[39mkwargs: \u001B[38;5;28;43mself\u001B[39;49m\u001B[38;5;241;43m.\u001B[39;49m\u001B[43m_call_process\u001B[49m\u001B[43m(\u001B[49m\u001B[43mname\u001B[49m\u001B[43m,\u001B[49m\u001B[43m \u001B[49m\u001B[38;5;241;43m*\u001B[39;49m\u001B[43margs\u001B[49m\u001B[43m,\u001B[49m\u001B[43m \u001B[49m\u001B[38;5;241;43m*\u001B[39;49m\u001B[38;5;241;43m*\u001B[39;49m\u001B[43mkwargs\u001B[49m\u001B[43m)\u001B[49m\n",
      "File \u001B[1;32mH:\\05_Pyton_Project\\Assistant_referee\\Assistant_referee\\.venv\\Lib\\site-packages\\git\\cmd.py:1599\u001B[0m, in \u001B[0;36mGit._call_process\u001B[1;34m(self, method, *args, **kwargs)\u001B[0m\n\u001B[0;32m   1596\u001B[0m call\u001B[38;5;241m.\u001B[39mappend(dashify(method))\n\u001B[0;32m   1597\u001B[0m call\u001B[38;5;241m.\u001B[39mextend(args_list)\n\u001B[1;32m-> 1599\u001B[0m \u001B[38;5;28;01mreturn\u001B[39;00m \u001B[38;5;28;43mself\u001B[39;49m\u001B[38;5;241;43m.\u001B[39;49m\u001B[43mexecute\u001B[49m\u001B[43m(\u001B[49m\u001B[43mcall\u001B[49m\u001B[43m,\u001B[49m\u001B[43m \u001B[49m\u001B[38;5;241;43m*\u001B[39;49m\u001B[38;5;241;43m*\u001B[39;49m\u001B[43mexec_kwargs\u001B[49m\u001B[43m)\u001B[49m\n",
      "File \u001B[1;32mH:\\05_Pyton_Project\\Assistant_referee\\Assistant_referee\\.venv\\Lib\\site-packages\\git\\cmd.py:1389\u001B[0m, in \u001B[0;36mGit.execute\u001B[1;34m(self, command, istream, with_extended_output, with_exceptions, as_process, output_stream, stdout_as_string, kill_after_timeout, with_stdout, universal_newlines, shell, env, max_chunk_size, strip_newline_in_stdout, **subprocess_kwargs)\u001B[0m\n\u001B[0;32m   1386\u001B[0m \u001B[38;5;66;03m# END handle debug printing\u001B[39;00m\n\u001B[0;32m   1388\u001B[0m \u001B[38;5;28;01mif\u001B[39;00m with_exceptions \u001B[38;5;129;01mand\u001B[39;00m status \u001B[38;5;241m!=\u001B[39m \u001B[38;5;241m0\u001B[39m:\n\u001B[1;32m-> 1389\u001B[0m     \u001B[38;5;28;01mraise\u001B[39;00m GitCommandError(redacted_command, status, stderr_value, stdout_value)\n\u001B[0;32m   1391\u001B[0m \u001B[38;5;28;01mif\u001B[39;00m \u001B[38;5;28misinstance\u001B[39m(stdout_value, \u001B[38;5;28mbytes\u001B[39m) \u001B[38;5;129;01mand\u001B[39;00m stdout_as_string:  \u001B[38;5;66;03m# Could also be output_stream.\u001B[39;00m\n\u001B[0;32m   1392\u001B[0m     stdout_value \u001B[38;5;241m=\u001B[39m safe_decode(stdout_value)\n",
      "\u001B[1;31mGitCommandError\u001B[0m: Cmd('git') failed due to: exit code(129)\n  cmdline: git add --All\n  stderr: 'error: unknown option `All'\nusage: git add [<options>] [--] <pathspec>...\n\n    -n, --[no-]dry-run    dry run\n    -v, --[no-]verbose    be verbose\n\n    -i, --[no-]interactive\n                          interactive picking\n    -p, --[no-]patch      select hunks interactively\n    -e, --[no-]edit       edit current diff and apply\n    -f, --[no-]force      allow adding otherwise ignored files\n    -u, --[no-]update     update tracked files\n    --[no-]renormalize    renormalize EOL of tracked files (implies -u)\n    -N, --[no-]intent-to-add\n                          record only the fact that the path will be added later\n    -A, --[no-]all        add changes from all tracked and untracked files\n    --[no-]ignore-removal ignore paths removed in the working tree (same as --no-all)\n    --[no-]refresh        don't add, only refresh the index\n    --[no-]ignore-errors  just skip files which cannot be added because of errors\n    --[no-]ignore-missing check if - even missing - files are ignored in dry run\n    --[no-]sparse         allow updating entries outside of the sparse-checkout cone\n    --[no-]chmod (+|-)x   override the executable bit of the listed files\n    --[no-]pathspec-from-file <file>\n                          read pathspec from file\n    --[no-]pathspec-file-nul\n                          with --pathspec-from-file, pathspec elements are separated with NUL character\n'"
     ]
    }
   ],
   "execution_count": 25
  },
  {
   "metadata": {},
   "cell_type": "code",
   "outputs": [],
   "execution_count": null,
   "source": "",
   "id": "46e0ca8686f62386"
  }
 ],
 "metadata": {
  "kernelspec": {
   "display_name": "Python 3",
   "language": "python",
   "name": "python3"
  },
  "language_info": {
   "codemirror_mode": {
    "name": "ipython",
    "version": 2
   },
   "file_extension": ".py",
   "mimetype": "text/x-python",
   "name": "python",
   "nbconvert_exporter": "python",
   "pygments_lexer": "ipython2",
   "version": "2.7.6"
  }
 },
 "nbformat": 4,
 "nbformat_minor": 5
}
