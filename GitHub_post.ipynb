{
 "cells": [
  {
   "cell_type": "code",
   "id": "initial_id",
   "metadata": {
    "collapsed": true,
    "ExecuteTime": {
     "end_time": "2025-02-03T04:48:26.892511Z",
     "start_time": "2025-02-03T04:48:23.565996Z"
    }
   },
   "source": [
    "import os\n",
    "import openai\n",
    "from gitdb.util import write\n",
    "from sympy import content\n",
    "!pip install gitpython\n"
   ],
   "outputs": [
    {
     "name": "stdout",
     "output_type": "stream",
     "text": [
      "Requirement already satisfied: gitpython in h:\\05_pyton_project\\assistant_referee\\assistant_referee\\.venv\\lib\\site-packages (3.1.44)\n",
      "Requirement already satisfied: gitdb<5,>=4.0.1 in h:\\05_pyton_project\\assistant_referee\\assistant_referee\\.venv\\lib\\site-packages (from gitpython) (4.0.12)\n",
      "Requirement already satisfied: smmap<6,>=3.0.1 in h:\\05_pyton_project\\assistant_referee\\assistant_referee\\.venv\\lib\\site-packages (from gitdb<5,>=4.0.1->gitpython) (5.0.2)\n"
     ]
    }
   ],
   "execution_count": 297
  },
  {
   "metadata": {
    "ExecuteTime": {
     "end_time": "2025-02-03T04:48:29.551916Z",
     "start_time": "2025-02-03T04:48:29.547731Z"
    }
   },
   "cell_type": "code",
   "source": "openai.api_key = os.getenv('OPENAI_API_KEY')",
   "id": "eed82e2d5eab35b7",
   "outputs": [],
   "execution_count": 298
  },
  {
   "metadata": {
    "ExecuteTime": {
     "end_time": "2025-02-03T04:48:30.889074Z",
     "start_time": "2025-02-03T04:48:30.884319Z"
    }
   },
   "cell_type": "code",
   "source": "from git import Repo",
   "id": "d9e0e158389ada08",
   "outputs": [],
   "execution_count": 299
  },
  {
   "metadata": {
    "ExecuteTime": {
     "end_time": "2025-02-03T04:48:32.560386Z",
     "start_time": "2025-02-03T04:48:32.555768Z"
    }
   },
   "cell_type": "code",
   "source": "from pathlib import Path",
   "id": "3f3f12c8863b20f7",
   "outputs": [],
   "execution_count": 300
  },
  {
   "metadata": {
    "ExecuteTime": {
     "end_time": "2025-02-03T04:48:33.877407Z",
     "start_time": "2025-02-03T04:48:33.871763Z"
    }
   },
   "cell_type": "code",
   "source": "pwd",
   "id": "85cb136c4cd32c2e",
   "outputs": [
    {
     "data": {
      "text/plain": [
       "'H:\\\\02_AIWork\\\\GitHub\\\\Data'"
      ]
     },
     "execution_count": 301,
     "metadata": {},
     "output_type": "execute_result"
    }
   ],
   "execution_count": 301
  },
  {
   "metadata": {
    "ExecuteTime": {
     "end_time": "2025-02-03T04:48:35.941503Z",
     "start_time": "2025-02-03T04:48:35.937376Z"
    }
   },
   "cell_type": "code",
   "source": "PATH_TO_BLOG = Path(\"H:\\\\02_AIWork\\\\GitHub\\\\Data\")",
   "id": "279bc965a5f76cb1",
   "outputs": [],
   "execution_count": 302
  },
  {
   "metadata": {
    "ExecuteTime": {
     "end_time": "2025-02-03T04:48:37.791642Z",
     "start_time": "2025-02-03T04:48:37.787245Z"
    }
   },
   "cell_type": "code",
   "source": "PATH_TO_BLOG = PATH_TO_BLOG_REPO.parent",
   "id": "e07ce00b1f23e95b",
   "outputs": [],
   "execution_count": 303
  },
  {
   "metadata": {
    "ExecuteTime": {
     "end_time": "2025-02-03T04:48:39.498818Z",
     "start_time": "2025-02-03T04:48:39.492876Z"
    }
   },
   "cell_type": "code",
   "source": "PATH_TO_CONTENT = PATH_TO_BLOG/\"content\"",
   "id": "a74441fcb71a1347",
   "outputs": [],
   "execution_count": 304
  },
  {
   "metadata": {
    "ExecuteTime": {
     "end_time": "2025-02-03T04:48:41.222415Z",
     "start_time": "2025-02-03T04:48:41.215900Z"
    }
   },
   "cell_type": "code",
   "source": "PATH_TO_CONTENT",
   "id": "665a842c1ba59b24",
   "outputs": [
    {
     "data": {
      "text/plain": [
       "WindowsPath('H:/02_AIWork/GitHub/Data/content')"
      ]
     },
     "execution_count": 305,
     "metadata": {},
     "output_type": "execute_result"
    }
   ],
   "execution_count": 305
  },
  {
   "metadata": {
    "ExecuteTime": {
     "end_time": "2025-02-03T04:48:43.586208Z",
     "start_time": "2025-02-03T04:48:43.580941Z"
    }
   },
   "cell_type": "code",
   "source": "PATH_TO_CONTENT.mkdir(exist_ok=True, parents=True)",
   "id": "9a2dd39ed7259743",
   "outputs": [],
   "execution_count": 306
  },
  {
   "metadata": {
    "ExecuteTime": {
     "end_time": "2025-02-03T04:49:31.105803Z",
     "start_time": "2025-02-03T04:49:31.100266Z"
    }
   },
   "cell_type": "code",
   "source": [
    "def update_blog(commit_message='Updates blog'):\n",
    "    # Открываем репозиторий Git\n",
    "    repo = Repo(PATH_TO_BLOG)\n",
    "    # git add\n",
    "    repo.git.add(A=True) # или repo.git.add(\".\")\n",
    "    # Создаем коммит\n",
    "    repo.index.commit(commit_message)\n",
    "    # Отправляем изменения в удаленный репозиторий\n",
    "    origin = repo.remote(name='origin')\n",
    "    origin.push()"
   ],
   "id": "f9a22db128da919",
   "outputs": [],
   "execution_count": 314
  },
  {
   "metadata": {
    "ExecuteTime": {
     "end_time": "2025-02-03T04:49:35.418718Z",
     "start_time": "2025-02-03T04:49:35.414324Z"
    }
   },
   "cell_type": "code",
   "source": "# random_text_string = \"jakdfdjfkljasfljdjflsdajf\"",
   "id": "93fe143c8eb96425",
   "outputs": [],
   "execution_count": 315
  },
  {
   "metadata": {
    "ExecuteTime": {
     "end_time": "2025-02-03T04:50:42.381990Z",
     "start_time": "2025-02-03T04:50:42.377963Z"
    }
   },
   "cell_type": "code",
   "source": [
    "# with open(PATH_TO_BLOG/\"index.html\", \"w\") as f:\n",
    "#    f.write(random_text_string)"
   ],
   "id": "5586e5db597480fa",
   "outputs": [],
   "execution_count": 319
  },
  {
   "metadata": {
    "ExecuteTime": {
     "end_time": "2025-02-03T04:48:57.870981Z",
     "start_time": "2025-02-03T04:48:54.860517Z"
    }
   },
   "cell_type": "code",
   "source": "update_blog()",
   "id": "9a4bfddab58c3f7f",
   "outputs": [],
   "execution_count": 309
  },
  {
   "metadata": {
    "ExecuteTime": {
     "end_time": "2025-02-03T04:46:51.674016Z",
     "start_time": "2025-02-03T04:46:51.663543Z"
    }
   },
   "cell_type": "code",
   "source": [
    "import shutil\n",
    "def create_new_blog(title,content,cover_image):\n",
    "    cover_image = Path(cover_image)\n",
    "    \n",
    "    # Проверяем, есть ли файлы .html\n",
    "    existing_files = list(PATH_TO_CONTENT.glob(\"*.html\"))\n",
    "    \n",
    "    files = len(existing_files)  # Количество существующих блогов\n",
    "    new_title = f\"{files+1}.html\"\n",
    "    path_to_new_content = PATH_TO_CONTENT / new_title\n",
    "    \n",
    "    shutil.copy(cover_image, PATH_TO_CONTENT)\n",
    "    \n",
    "    if not os.path.exists(path_to_new_content):\n",
    "        # WHITE A NEW HTML FILE\n",
    "        with open(path_to_new_content, \"w\") as f:\n",
    "            f.write(\"<!DOCTYPE html>\\n\")\n",
    "            f.write(\"<html>\\n\")\n",
    "            f.write(\"<head>\\n\")\n",
    "            f.write(\"<title>\" + title + \"</title>\\n\")\n",
    "            f.write(\"</head>\\n\")\n",
    "            \n",
    "            f.write(\"<body>\\n\")\n",
    "            f.write(f\"<img src='{cover_image.name}' alt='Cover Image'> <br />\\n\")\n",
    "            f.write(f\"<h1> {title} </h1>\\n\")\n",
    "            # OpenAI --> Completion GPT --> \"hello\\nblog post\\n\"\n",
    "            f.write(content.replace(\"\\n\", \"<br />\\n\"))\n",
    "            f.write(\"</body>\\n\")\n",
    "            f.write(\"</html>\\n\")\n",
    "            print(\"Blog Created\")\n",
    "            return path_to_new_content\n",
    "            \n",
    "    else:\n",
    "        raise FileNotFoundError(\"Файл уже существует, пожалуйста, проверьте еще раз свое имя! Отмена!\")\n",
    "    "
   ],
   "id": "46e0ca8686f62386",
   "outputs": [],
   "execution_count": 285
  },
  {
   "metadata": {
    "ExecuteTime": {
     "end_time": "2025-02-03T04:46:51.691469Z",
     "start_time": "2025-02-03T04:46:51.687040Z"
    }
   },
   "cell_type": "code",
   "source": "#path_to_new_content = create_new_blog('Test_title','skdajfldjslkjdsf','example_download.png')",
   "id": "bf9924ec7ec65668",
   "outputs": [],
   "execution_count": 286
  },
  {
   "metadata": {
    "ExecuteTime": {
     "end_time": "2025-02-03T04:46:51.718859Z",
     "start_time": "2025-02-03T04:46:51.715920Z"
    }
   },
   "cell_type": "code",
   "source": "#index.html ---> Blog post",
   "id": "7d37cd239fbf96ae",
   "outputs": [],
   "execution_count": 287
  },
  {
   "metadata": {
    "ExecuteTime": {
     "end_time": "2025-02-03T04:46:51.741458Z",
     "start_time": "2025-02-03T04:46:51.737155Z"
    }
   },
   "cell_type": "code",
   "source": "from bs4 import BeautifulSoup as Soup",
   "id": "fc1b87db04ee70f5",
   "outputs": [],
   "execution_count": 288
  },
  {
   "metadata": {
    "ExecuteTime": {
     "end_time": "2025-02-03T04:46:51.766430Z",
     "start_time": "2025-02-03T04:46:51.762843Z"
    }
   },
   "cell_type": "code",
   "source": "# pip install BeautifulSoup4",
   "id": "8ebd3a22548f4af2",
   "outputs": [],
   "execution_count": 289
  },
  {
   "metadata": {
    "ExecuteTime": {
     "end_time": "2025-02-03T04:46:51.790564Z",
     "start_time": "2025-02-03T04:46:51.777663Z"
    }
   },
   "cell_type": "code",
   "source": [
    "with open(PATH_TO_BLOG/\"index.html\") as index:\n",
    "    soup = Soup(index.read())"
   ],
   "id": "90aae2272c1d7375",
   "outputs": [],
   "execution_count": 290
  },
  {
   "metadata": {
    "ExecuteTime": {
     "end_time": "2025-02-03T04:46:51.806391Z",
     "start_time": "2025-02-03T04:46:51.800746Z"
    }
   },
   "cell_type": "code",
   "source": "str(soup)",
   "id": "940ffe5f0c113a5c",
   "outputs": [
    {
     "data": {
      "text/plain": [
       "'jakdfdjfkljasfljdjflsdajf'"
      ]
     },
     "execution_count": 291,
     "metadata": {},
     "output_type": "execute_result"
    }
   ],
   "execution_count": 291
  },
  {
   "metadata": {
    "ExecuteTime": {
     "end_time": "2025-02-03T04:46:51.840288Z",
     "start_time": "2025-02-03T04:46:51.836177Z"
    }
   },
   "cell_type": "code",
   "source": [
    "# checking duplicate links\n",
    "\n",
    "# write blog post link ---> index.html"
   ],
   "id": "4bd719ad1f7a8231",
   "outputs": [],
   "execution_count": 292
  },
  {
   "metadata": {
    "ExecuteTime": {
     "end_time": "2025-02-03T04:46:51.855138Z",
     "start_time": "2025-02-03T04:46:51.850636Z"
    }
   },
   "cell_type": "code",
   "source": [
    "def check_for_duplicate_links(path_to_new_content, links):\n",
    "    urls = [str(link.get(\"href\")) for link in links]  \n",
    "    content_path = str(Path(*path_to_new_content.parts[-2:]))\n",
    "    return content_path in urls\n"
   ],
   "id": "e5cb9e505272ccfb",
   "outputs": [],
   "execution_count": 293
  },
  {
   "metadata": {
    "ExecuteTime": {
     "end_time": "2025-02-03T04:46:51.907365Z",
     "start_time": "2025-02-03T04:46:51.894707Z"
    }
   },
   "cell_type": "code",
   "source": [
    "def write_to_index(path_to_new_content):\n",
    "    with open(PATH_TO_BLOG/'index.html') as index:\n",
    "        soup = Soup(index.read())\n",
    "        \n",
    "    links = soup.find_all(\"a\")    \n",
    "    \n",
    "    # Проверяем, есть ли ссылки в файле index.html\n",
    "    if not links:\n",
    "        print(\"⚠ Внимание: В index.html нет ссылок! Добавляем первую ссылку.\")\n",
    "        with open(PATH_TO_BLOG/'index.html', 'w') as f:\n",
    "            f.write(f'<a href=\"{Path(*path_to_new_content.parts[-2:])}\">{path_to_new_content.name.split(\".\")[0]}</a>\\n')\n",
    "        return\n",
    "    \n",
    "    last_link = links[-1]  # Теперь эта строка безопасна\n",
    "\n",
    "    if check_for_duplicate_links(path_to_new_content, links):\n",
    "        raise ValueError(\"❌ Ошибка: Ссылка уже существует!\")\n",
    "\n",
    "    # Создаем новую ссылку\n",
    "    links_to_new_blog = soup.new_tag(\"a\", href=Path(*path_to_new_content.parts[-2:]))\n",
    "    links_to_new_blog.string = path_to_new_content.name.split('.')[0]\n",
    "\n",
    "    last_link.insert_after(links_to_new_blog)  # Вставляем новую ссылку\n",
    "\n",
    "    # Записываем обновленный index.html\n",
    "    with open(PATH_TO_BLOG/'index.html', 'w') as f:\n",
    "        f.write(str(soup.prettify(formatter=\"html\")))\n",
    "\n",
    "    print(\"✅ Ссылка успешно добавлена в index.html!\")\n"
   ],
   "id": "974340f088d323a8",
   "outputs": [],
   "execution_count": 294
  },
  {
   "metadata": {
    "ExecuteTime": {
     "end_time": "2025-02-03T04:46:51.929410Z",
     "start_time": "2025-02-03T04:46:51.913365Z"
    }
   },
   "cell_type": "code",
   "source": "write_to_index(path_to_new_content)",
   "id": "f70c784da3a2a710",
   "outputs": [
    {
     "name": "stdout",
     "output_type": "stream",
     "text": [
      "⚠ Внимание: В index.html нет ссылок! Добавляем первую ссылку.\n"
     ]
    }
   ],
   "execution_count": 295
  },
  {
   "metadata": {
    "ExecuteTime": {
     "end_time": "2025-02-03T04:46:54.325796Z",
     "start_time": "2025-02-03T04:46:51.939794Z"
    }
   },
   "cell_type": "code",
   "source": "update_blog()",
   "id": "f98f186ea769a16a",
   "outputs": [],
   "execution_count": 296
  },
  {
   "metadata": {
    "ExecuteTime": {
     "end_time": "2025-02-03T04:46:54.343826Z",
     "start_time": "2025-02-03T04:46:54.340361Z"
    }
   },
   "cell_type": "code",
   "source": "",
   "id": "7461ddf12d877bc8",
   "outputs": [],
   "execution_count": null
  }
 ],
 "metadata": {
  "kernelspec": {
   "display_name": "Python 3",
   "language": "python",
   "name": "python3"
  },
  "language_info": {
   "codemirror_mode": {
    "name": "ipython",
    "version": 2
   },
   "file_extension": ".py",
   "mimetype": "text/x-python",
   "name": "python",
   "nbconvert_exporter": "python",
   "pygments_lexer": "ipython2",
   "version": "2.7.6"
  }
 },
 "nbformat": 4,
 "nbformat_minor": 5
}
