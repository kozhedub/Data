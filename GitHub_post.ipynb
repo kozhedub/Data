{
 "cells": [
  {
   "cell_type": "code",
   "id": "initial_id",
   "metadata": {
    "collapsed": true,
    "jupyter": {
     "is_executing": true
    }
   },
   "source": [
    "import os\n",
    "import openai\n",
    "from gitdb.util import write\n",
    "from sympy import content\n",
    "!pip install gitpython\n"
   ],
   "outputs": [],
   "execution_count": null
  },
  {
   "metadata": {
    "ExecuteTime": {
     "end_time": "2025-02-03T04:23:52.733530Z",
     "start_time": "2025-02-03T04:23:52.729526Z"
    }
   },
   "cell_type": "code",
   "source": "openai.api_key = os.getenv('OPENAI_API_KEY')",
   "id": "eed82e2d5eab35b7",
   "outputs": [],
   "execution_count": 232
  },
  {
   "metadata": {
    "ExecuteTime": {
     "end_time": "2025-02-03T04:23:54.100271Z",
     "start_time": "2025-02-03T04:23:54.094230Z"
    }
   },
   "cell_type": "code",
   "source": "from git import Repo",
   "id": "d9e0e158389ada08",
   "outputs": [],
   "execution_count": 233
  },
  {
   "metadata": {
    "ExecuteTime": {
     "end_time": "2025-02-03T04:23:55.317078Z",
     "start_time": "2025-02-03T04:23:55.312553Z"
    }
   },
   "cell_type": "code",
   "source": "from pathlib import Path",
   "id": "3f3f12c8863b20f7",
   "outputs": [],
   "execution_count": 234
  },
  {
   "metadata": {
    "ExecuteTime": {
     "end_time": "2025-02-03T04:23:56.938627Z",
     "start_time": "2025-02-03T04:23:56.933180Z"
    }
   },
   "cell_type": "code",
   "source": "pwd",
   "id": "85cb136c4cd32c2e",
   "outputs": [
    {
     "data": {
      "text/plain": [
       "'H:\\\\02_AIWork\\\\GitHub\\\\Data'"
      ]
     },
     "execution_count": 235,
     "metadata": {},
     "output_type": "execute_result"
    }
   ],
   "execution_count": 235
  },
  {
   "metadata": {
    "ExecuteTime": {
     "end_time": "2025-02-03T04:23:59.993576Z",
     "start_time": "2025-02-03T04:23:59.989924Z"
    }
   },
   "cell_type": "code",
   "source": "PATH_TO_BLOG = Path(\"H:\\\\02_AIWork\\\\GitHub\\\\Data\")",
   "id": "279bc965a5f76cb1",
   "outputs": [],
   "execution_count": 236
  },
  {
   "metadata": {
    "ExecuteTime": {
     "end_time": "2025-02-03T04:24:01.839371Z",
     "start_time": "2025-02-03T04:24:01.835698Z"
    }
   },
   "cell_type": "code",
   "source": "PATH_TO_BLOG = PATH_TO_BLOG_REPO.parent",
   "id": "e07ce00b1f23e95b",
   "outputs": [],
   "execution_count": 237
  },
  {
   "metadata": {
    "ExecuteTime": {
     "end_time": "2025-02-03T04:24:04.075911Z",
     "start_time": "2025-02-03T04:24:04.071688Z"
    }
   },
   "cell_type": "code",
   "source": "PATH_TO_CONTENT = PATH_TO_BLOG/\"content\"",
   "id": "a74441fcb71a1347",
   "outputs": [],
   "execution_count": 238
  },
  {
   "metadata": {
    "ExecuteTime": {
     "end_time": "2025-02-03T04:24:06.022578Z",
     "start_time": "2025-02-03T04:24:06.016317Z"
    }
   },
   "cell_type": "code",
   "source": "PATH_TO_CONTENT",
   "id": "665a842c1ba59b24",
   "outputs": [
    {
     "data": {
      "text/plain": [
       "WindowsPath('H:/02_AIWork/GitHub/Data/content')"
      ]
     },
     "execution_count": 239,
     "metadata": {},
     "output_type": "execute_result"
    }
   ],
   "execution_count": 239
  },
  {
   "metadata": {
    "ExecuteTime": {
     "end_time": "2025-02-03T04:24:09.336764Z",
     "start_time": "2025-02-03T04:24:09.331773Z"
    }
   },
   "cell_type": "code",
   "source": "PATH_TO_CONTENT.mkdir(exist_ok=True, parents=True)",
   "id": "9a2dd39ed7259743",
   "outputs": [],
   "execution_count": 240
  },
  {
   "metadata": {
    "ExecuteTime": {
     "end_time": "2025-02-03T04:24:12.918642Z",
     "start_time": "2025-02-03T04:24:12.913546Z"
    }
   },
   "cell_type": "code",
   "source": [
    "def update_blog(commit_message='Updates blog'):\n",
    "    # Открываем репозиторий Git\n",
    "    repo = Repo(PATH_TO_BLOG)\n",
    "    # git add\n",
    "    repo.git.add(A=True) # или repo.git.add(\".\")\n",
    "    # Создаем коммит\n",
    "    repo.index.commit(commit_message)\n",
    "    # Отправляем изменения в удаленный репозиторий\n",
    "    origin = repo.remote(name='origin')\n",
    "    origin.push()"
   ],
   "id": "f9a22db128da919",
   "outputs": [],
   "execution_count": 241
  },
  {
   "metadata": {
    "ExecuteTime": {
     "end_time": "2025-02-03T04:24:15.648850Z",
     "start_time": "2025-02-03T04:24:15.645163Z"
    }
   },
   "cell_type": "code",
   "source": "#random_text_string = \"jakdfdjfkljasfljdjflsdajf\"",
   "id": "93fe143c8eb96425",
   "outputs": [],
   "execution_count": 242
  },
  {
   "metadata": {
    "ExecuteTime": {
     "end_time": "2025-02-03T04:24:19.596072Z",
     "start_time": "2025-02-03T04:24:19.589459Z"
    }
   },
   "cell_type": "code",
   "source": [
    "with open(PATH_TO_BLOG/\"index.html\", \"w\") as f:\n",
    "    f.write(random_text_string)"
   ],
   "id": "5586e5db597480fa",
   "outputs": [],
   "execution_count": 243
  },
  {
   "metadata": {
    "ExecuteTime": {
     "end_time": "2025-02-03T04:24:26.235199Z",
     "start_time": "2025-02-03T04:24:22.087848Z"
    }
   },
   "cell_type": "code",
   "source": "update_blog()",
   "id": "9a4bfddab58c3f7f",
   "outputs": [],
   "execution_count": 244
  },
  {
   "metadata": {
    "ExecuteTime": {
     "end_time": "2025-02-03T04:24:57.930360Z",
     "start_time": "2025-02-03T04:24:57.921330Z"
    }
   },
   "cell_type": "code",
   "source": [
    "import shutil\n",
    "def create_new_blog(title,content,cover_image):\n",
    "    cover_image = Path(cover_image)\n",
    "    \n",
    "    # Проверяем, есть ли файлы .html\n",
    "    existing_files = list(PATH_TO_CONTENT.glob(\"*.html\"))\n",
    "    \n",
    "    files = len(existing_files)  # Количество существующих блогов\n",
    "    new_title = f\"{files+1}.html\"\n",
    "    path_to_new_content = PATH_TO_CONTENT / new_title\n",
    "    \n",
    "    shutil.copy(cover_image, PATH_TO_CONTENT)\n",
    "    \n",
    "    if not os.path.exists(path_to_new_content):\n",
    "        # WHITE A NEW HTML FILE\n",
    "        with open(path_to_new_content, \"w\") as f:\n",
    "            f.write(\"<!DOCTYPE html>\\n\")\n",
    "            f.write(\"<html>\\n\")\n",
    "            f.write(\"<head>\\n\")\n",
    "            f.write(\"<title>\" + title + \"</title>\\n\")\n",
    "            f.write(\"</head>\\n\")\n",
    "            \n",
    "            f.write(\"<body>\\n\")\n",
    "            f.write(f\"<img src='{cover_image.name}' alt='Cover Image'> <br />\\n\")\n",
    "            f.write(f\"<h1> {title} </h1>\\n\")\n",
    "            # OpenAI --> Completion GPT --> \"hello\\nblog post\\n\"\n",
    "            f.write(content.replace(\"\\n\", \"<br />\\n\"))\n",
    "            f.write(\"</body>\\n\")\n",
    "            f.write(\"</html>\\n\")\n",
    "            print(\"Blog Created\")\n",
    "            return path_to_new_content\n",
    "            \n",
    "    else:\n",
    "        raise FileNotFoundError(\"Файл уже существует, пожалуйста, проверьте еще раз свое имя! Отмена!\")\n",
    "    "
   ],
   "id": "46e0ca8686f62386",
   "outputs": [],
   "execution_count": 246
  },
  {
   "metadata": {
    "ExecuteTime": {
     "end_time": "2025-02-03T04:25:22.344476Z",
     "start_time": "2025-02-03T04:25:22.316683Z"
    }
   },
   "cell_type": "code",
   "source": "#path_to_new_content = create_new_blog('Test_title','skdajfldjslkjdsf','example_download.png')",
   "id": "bf9924ec7ec65668",
   "outputs": [
    {
     "name": "stdout",
     "output_type": "stream",
     "text": [
      "Blog Created\n"
     ]
    }
   ],
   "execution_count": 247
  },
  {
   "metadata": {
    "ExecuteTime": {
     "end_time": "2025-02-03T04:25:29.747305Z",
     "start_time": "2025-02-03T04:25:29.742668Z"
    }
   },
   "cell_type": "code",
   "source": "#index.html ---> Blog post",
   "id": "7d37cd239fbf96ae",
   "outputs": [],
   "execution_count": 248
  },
  {
   "metadata": {
    "ExecuteTime": {
     "end_time": "2025-02-03T04:25:33.750590Z",
     "start_time": "2025-02-03T04:25:33.745592Z"
    }
   },
   "cell_type": "code",
   "source": "from bs4 import BeautifulSoup as Soup",
   "id": "fc1b87db04ee70f5",
   "outputs": [],
   "execution_count": 249
  },
  {
   "metadata": {
    "ExecuteTime": {
     "end_time": "2025-02-03T04:25:35.661433Z",
     "start_time": "2025-02-03T04:25:35.657214Z"
    }
   },
   "cell_type": "code",
   "source": "# pip install BeautifulSoup4",
   "id": "8ebd3a22548f4af2",
   "outputs": [],
   "execution_count": 250
  },
  {
   "metadata": {
    "ExecuteTime": {
     "end_time": "2025-02-03T04:43:07.295881Z",
     "start_time": "2025-02-03T04:43:07.290078Z"
    }
   },
   "cell_type": "code",
   "source": [
    "with open(PATH_TO_BLOG/\"index.html\") as index:\n",
    "    soup = Soup(index.read())"
   ],
   "id": "90aae2272c1d7375",
   "outputs": [],
   "execution_count": 268
  },
  {
   "metadata": {
    "ExecuteTime": {
     "end_time": "2025-02-03T04:43:08.777243Z",
     "start_time": "2025-02-03T04:43:08.770301Z"
    }
   },
   "cell_type": "code",
   "source": "str(soup)",
   "id": "940ffe5f0c113a5c",
   "outputs": [
    {
     "data": {
      "text/plain": [
       "'<html lang=\"en\">\\n<head>\\n<meta charset=\"utf-8\"/>\\n<meta content=\"width=device-width, initial-scale=1\" name=\"viewport\"/>\\n<title>\\n   Document\\n  </title>\\n</head>\\n<body>\\n<h1> home\\n  </h1>\\n<a href=\"index.html\">\\n   body\\n  </a>\\n<a href=\"content\\\\8.html\">\\n   8\\n  </a>\\n</body>\\n</html>\\n'"
      ]
     },
     "execution_count": 269,
     "metadata": {},
     "output_type": "execute_result"
    }
   ],
   "execution_count": 269
  },
  {
   "metadata": {
    "ExecuteTime": {
     "end_time": "2025-02-03T04:43:13.859735Z",
     "start_time": "2025-02-03T04:43:13.855924Z"
    }
   },
   "cell_type": "code",
   "source": [
    "# checking duplicate links\n",
    "\n",
    "# write blog post link ---> index.html"
   ],
   "id": "4bd719ad1f7a8231",
   "outputs": [],
   "execution_count": 270
  },
  {
   "metadata": {
    "ExecuteTime": {
     "end_time": "2025-02-03T04:35:27.556989Z",
     "start_time": "2025-02-03T04:35:27.551435Z"
    }
   },
   "cell_type": "code",
   "source": [
    "def check_for_duplicate_links(path_to_new_content, links):\n",
    "    urls = [str(link.get(\"href\")) for link in links]  \n",
    "    content_path = str(Path(*path_to_new_content.parts[-2:]))\n",
    "    return content_path in urls\n"
   ],
   "id": "e5cb9e505272ccfb",
   "outputs": [],
   "execution_count": 262
  },
  {
   "metadata": {
    "ExecuteTime": {
     "end_time": "2025-02-03T04:35:45.554355Z",
     "start_time": "2025-02-03T04:35:45.543303Z"
    }
   },
   "cell_type": "code",
   "source": [
    "def write_to_index(path_to_new_content):\n",
    "    with open(PATH_TO_BLOG/'index.html') as index:\n",
    "        soup = Soup(index.read())\n",
    "        \n",
    "    links = soup.find_all(\"a\")    \n",
    "    \n",
    "    # Проверяем, есть ли ссылки в файле index.html\n",
    "    if not links:\n",
    "        print(\"⚠ Внимание: В index.html нет ссылок! Добавляем первую ссылку.\")\n",
    "        with open(PATH_TO_BLOG/'index.html', 'w') as f:\n",
    "            f.write(f'<a href=\"{Path(*path_to_new_content.parts[-2:])}\">{path_to_new_content.name.split(\".\")[0]}</a>\\n')\n",
    "        return\n",
    "    \n",
    "    last_link = links[-1]  # Теперь эта строка безопасна\n",
    "\n",
    "    if check_for_duplicate_links(path_to_new_content, links):\n",
    "        raise ValueError(\"❌ Ошибка: Ссылка уже существует!\")\n",
    "\n",
    "    # Создаем новую ссылку\n",
    "    links_to_new_blog = soup.new_tag(\"a\", href=Path(*path_to_new_content.parts[-2:]))\n",
    "    links_to_new_blog.string = path_to_new_content.name.split('.')[0]\n",
    "\n",
    "    last_link.insert_after(links_to_new_blog)  # Вставляем новую ссылку\n",
    "\n",
    "    # Записываем обновленный index.html\n",
    "    with open(PATH_TO_BLOG/'index.html', 'w') as f:\n",
    "        f.write(str(soup.prettify(formatter=\"html\")))\n",
    "\n",
    "    print(\"✅ Ссылка успешно добавлена в index.html!\")\n"
   ],
   "id": "974340f088d323a8",
   "outputs": [],
   "execution_count": 263
  },
  {
   "metadata": {
    "ExecuteTime": {
     "end_time": "2025-02-03T04:35:49.005159Z",
     "start_time": "2025-02-03T04:35:48.996497Z"
    }
   },
   "cell_type": "code",
   "source": "write_to_index(path_to_new_content)",
   "id": "f70c784da3a2a710",
   "outputs": [
    {
     "name": "stdout",
     "output_type": "stream",
     "text": [
      "✅ Ссылка успешно добавлена в index.html!\n"
     ]
    }
   ],
   "execution_count": 264
  },
  {
   "metadata": {
    "ExecuteTime": {
     "end_time": "2025-02-03T04:35:55.353456Z",
     "start_time": "2025-02-03T04:35:52.294643Z"
    }
   },
   "cell_type": "code",
   "source": "update_blog()",
   "id": "f98f186ea769a16a",
   "outputs": [],
   "execution_count": 265
  },
  {
   "metadata": {
    "ExecuteTime": {
     "end_time": "2025-02-03T02:09:22.649779Z",
     "start_time": "2025-02-03T02:09:22.645941Z"
    }
   },
   "cell_type": "code",
   "source": "",
   "id": "7461ddf12d877bc8",
   "outputs": [],
   "execution_count": null
  }
 ],
 "metadata": {
  "kernelspec": {
   "display_name": "Python 3",
   "language": "python",
   "name": "python3"
  },
  "language_info": {
   "codemirror_mode": {
    "name": "ipython",
    "version": 2
   },
   "file_extension": ".py",
   "mimetype": "text/x-python",
   "name": "python",
   "nbconvert_exporter": "python",
   "pygments_lexer": "ipython2",
   "version": "2.7.6"
  }
 },
 "nbformat": 4,
 "nbformat_minor": 5
}
