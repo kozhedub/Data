{
 "cells": [
  {
   "cell_type": "code",
   "id": "initial_id",
   "metadata": {
    "collapsed": true,
    "ExecuteTime": {
     "end_time": "2025-02-02T09:07:40.878984Z",
     "start_time": "2025-02-02T09:07:36.898059Z"
    }
   },
   "source": [
    "import os\n",
    "import openai\n",
    "from gitdb.util import write\n",
    "from sympy import content\n",
    "!pip install gitpython\n"
   ],
   "outputs": [
    {
     "name": "stdout",
     "output_type": "stream",
     "text": [
      "Requirement already satisfied: gitpython in h:\\05_pyton_project\\assistant_referee\\assistant_referee\\.venv\\lib\\site-packages (3.1.44)\n",
      "Requirement already satisfied: gitdb<5,>=4.0.1 in h:\\05_pyton_project\\assistant_referee\\assistant_referee\\.venv\\lib\\site-packages (from gitpython) (4.0.12)\n",
      "Requirement already satisfied: smmap<6,>=3.0.1 in h:\\05_pyton_project\\assistant_referee\\assistant_referee\\.venv\\lib\\site-packages (from gitdb<5,>=4.0.1->gitpython) (5.0.2)\n"
     ]
    }
   ],
   "execution_count": 143
  },
  {
   "metadata": {
    "ExecuteTime": {
     "end_time": "2025-02-02T09:07:40.901880Z",
     "start_time": "2025-02-02T09:07:40.897571Z"
    }
   },
   "cell_type": "code",
   "source": "openai.api_key = os.getenv('OPENAI_API_KEY')",
   "id": "eed82e2d5eab35b7",
   "outputs": [],
   "execution_count": 144
  },
  {
   "metadata": {
    "ExecuteTime": {
     "end_time": "2025-02-02T09:07:40.915638Z",
     "start_time": "2025-02-02T09:07:40.912583Z"
    }
   },
   "cell_type": "code",
   "source": "from git import Repo",
   "id": "d9e0e158389ada08",
   "outputs": [],
   "execution_count": 145
  },
  {
   "metadata": {
    "ExecuteTime": {
     "end_time": "2025-02-02T09:07:40.930268Z",
     "start_time": "2025-02-02T09:07:40.926985Z"
    }
   },
   "cell_type": "code",
   "source": "from pathlib import Path",
   "id": "3f3f12c8863b20f7",
   "outputs": [],
   "execution_count": 146
  },
  {
   "metadata": {
    "ExecuteTime": {
     "end_time": "2025-02-02T09:07:40.955181Z",
     "start_time": "2025-02-02T09:07:40.950375Z"
    }
   },
   "cell_type": "code",
   "source": "pwd",
   "id": "85cb136c4cd32c2e",
   "outputs": [
    {
     "data": {
      "text/plain": [
       "'H:\\\\02_AIWork\\\\GitHub\\\\Data'"
      ]
     },
     "execution_count": 147,
     "metadata": {},
     "output_type": "execute_result"
    }
   ],
   "execution_count": 147
  },
  {
   "metadata": {
    "ExecuteTime": {
     "end_time": "2025-02-02T09:07:40.990714Z",
     "start_time": "2025-02-02T09:07:40.986976Z"
    }
   },
   "cell_type": "code",
   "source": "PATH_TO_BLOG = Path(\"H:\\\\02_AIWork\\\\GitHub\\\\Data\")",
   "id": "279bc965a5f76cb1",
   "outputs": [],
   "execution_count": 148
  },
  {
   "metadata": {
    "ExecuteTime": {
     "end_time": "2025-02-02T09:07:41.009409Z",
     "start_time": "2025-02-02T09:07:41.005426Z"
    }
   },
   "cell_type": "code",
   "source": "PATH_TO_BLOG = PATH_TO_BLOG_REPO.parent",
   "id": "e07ce00b1f23e95b",
   "outputs": [],
   "execution_count": 149
  },
  {
   "metadata": {
    "ExecuteTime": {
     "end_time": "2025-02-02T09:07:41.022865Z",
     "start_time": "2025-02-02T09:07:41.019866Z"
    }
   },
   "cell_type": "code",
   "source": "PATH_TO_CONTENT = PATH_TO_BLOG/\"content\"",
   "id": "a74441fcb71a1347",
   "outputs": [],
   "execution_count": 150
  },
  {
   "metadata": {
    "ExecuteTime": {
     "end_time": "2025-02-02T09:07:41.046180Z",
     "start_time": "2025-02-02T09:07:41.041278Z"
    }
   },
   "cell_type": "code",
   "source": "PATH_TO_CONTENT",
   "id": "665a842c1ba59b24",
   "outputs": [
    {
     "data": {
      "text/plain": [
       "WindowsPath('H:/02_AIWork/GitHub/Data/content')"
      ]
     },
     "execution_count": 151,
     "metadata": {},
     "output_type": "execute_result"
    }
   ],
   "execution_count": 151
  },
  {
   "metadata": {
    "ExecuteTime": {
     "end_time": "2025-02-02T09:07:41.064109Z",
     "start_time": "2025-02-02T09:07:41.060178Z"
    }
   },
   "cell_type": "code",
   "source": "PATH_TO_CONTENT.mkdir(exist_ok=True, parents=True)",
   "id": "9a2dd39ed7259743",
   "outputs": [],
   "execution_count": 152
  },
  {
   "metadata": {
    "ExecuteTime": {
     "end_time": "2025-02-02T09:07:41.086919Z",
     "start_time": "2025-02-02T09:07:41.083198Z"
    }
   },
   "cell_type": "code",
   "source": [
    "def update_blog(commit_message='Updates blog'):\n",
    "    # Открываем репозиторий Git\n",
    "    repo = Repo(PATH_TO_BLOG)\n",
    "    # git add\n",
    "    repo.git.add(A=True) # или repo.git.add(\".\")\n",
    "    # Создаем коммит\n",
    "    repo.index.commit(commit_message)\n",
    "    # Отправляем изменения в удаленный репозиторий\n",
    "    origin = repo.remote(name='origin')\n",
    "    origin.push()"
   ],
   "id": "f9a22db128da919",
   "outputs": [],
   "execution_count": 153
  },
  {
   "metadata": {
    "ExecuteTime": {
     "end_time": "2025-02-02T09:07:41.102559Z",
     "start_time": "2025-02-02T09:07:41.096391Z"
    }
   },
   "cell_type": "code",
   "source": "random_text_string = \"jakdfdjfkljasfljdjflsdajf\"",
   "id": "93fe143c8eb96425",
   "outputs": [],
   "execution_count": 154
  },
  {
   "metadata": {
    "ExecuteTime": {
     "end_time": "2025-02-02T09:07:41.120861Z",
     "start_time": "2025-02-02T09:07:41.113168Z"
    }
   },
   "cell_type": "code",
   "source": [
    "with open(PATH_TO_BLOG/\"index.html\", \"w\") as f:\n",
    "    f.write(random_text_string)"
   ],
   "id": "5586e5db597480fa",
   "outputs": [],
   "execution_count": 155
  },
  {
   "metadata": {
    "ExecuteTime": {
     "end_time": "2025-02-02T09:07:43.746262Z",
     "start_time": "2025-02-02T09:07:41.131365Z"
    }
   },
   "cell_type": "code",
   "source": "update_blog()",
   "id": "9a4bfddab58c3f7f",
   "outputs": [],
   "execution_count": 156
  },
  {
   "metadata": {
    "ExecuteTime": {
     "end_time": "2025-02-02T09:13:26.957135Z",
     "start_time": "2025-02-02T09:13:26.947084Z"
    }
   },
   "cell_type": "code",
   "source": [
    "import shutil\n",
    "def create_new_blog(title,content,cover_image):\n",
    "    cover_image = Path(cover_image)\n",
    "    \n",
    "    # Проверяем, есть ли файлы .html\n",
    "    existing_files = list(PATH_TO_CONTENT.glob(\"*.html\"))\n",
    "    \n",
    "    files = len(existing_files)  # Количество существующих блогов\n",
    "    new_title = f\"{files+1}.html\"\n",
    "    path_to_new_content = PATH_TO_CONTENT / new_title\n",
    "    \n",
    "    shutil.copy(cover_image, PATH_TO_CONTENT)\n",
    "    \n",
    "    if not os.path.exists(path_to_new_content):\n",
    "        # WHITE A NEW HTML FILE\n",
    "        with open(path_to_new_content, \"w\") as f:\n",
    "            f.write('<!DOCTYPE html>\\n')\n",
    "            f.write('<html>\\n')\n",
    "            f.write('<head>\\n')\n",
    "            f.write('<meta charset=\"utf-8\">\\n')\n",
    "            f.write('<title>' + title + '</title>\\n')\n",
    "            f.write('</head>\\n')\n",
    "            \n",
    "            f.write('<body>\\n')\n",
    "            f.write(f\"<img src='{cover_image.name}' alt='Cover Image'> <br />\\n\")\n",
    "            f.write(f\"<h1> {title} </h1>\\n\")\n",
    "            # OpenAI --> Completion GPT --> \"hello\\nblog post\\n\"\n",
    "            f.write(content.replace(\"\\n\", \"<br />\\n\"))\n",
    "            f.write('</body>\\n')\n",
    "            f.write('</html>\\n')\n",
    "            print(\"Blog Created\")\n",
    "            return path_to_new_content\n",
    "            \n",
    "    else:\n",
    "        raise FileNotFoundError(\"File already exists, please check again you name! Aborting!\")\n",
    "    "
   ],
   "id": "46e0ca8686f62386",
   "outputs": [],
   "execution_count": 174
  },
  {
   "metadata": {
    "ExecuteTime": {
     "end_time": "2025-02-02T09:07:43.798560Z",
     "start_time": "2025-02-02T09:07:43.779107Z"
    }
   },
   "cell_type": "code",
   "source": "path_to_new_content = create_new_blog('Test_title','skdajfldjslkjdsf','example_download.png')",
   "id": "bf9924ec7ec65668",
   "outputs": [
    {
     "name": "stdout",
     "output_type": "stream",
     "text": [
      "Blog Created\n"
     ]
    }
   ],
   "execution_count": 158
  },
  {
   "metadata": {
    "ExecuteTime": {
     "end_time": "2025-02-02T09:07:43.822854Z",
     "start_time": "2025-02-02T09:07:43.819119Z"
    }
   },
   "cell_type": "code",
   "source": "#index.html ---> Blog post",
   "id": "7d37cd239fbf96ae",
   "outputs": [],
   "execution_count": 159
  },
  {
   "metadata": {
    "ExecuteTime": {
     "end_time": "2025-02-02T09:07:43.849519Z",
     "start_time": "2025-02-02T09:07:43.846015Z"
    }
   },
   "cell_type": "code",
   "source": "from bs4 import BeautifulSoup as Soup",
   "id": "fc1b87db04ee70f5",
   "outputs": [],
   "execution_count": 160
  },
  {
   "metadata": {
    "ExecuteTime": {
     "end_time": "2025-02-02T09:07:43.863761Z",
     "start_time": "2025-02-02T09:07:43.859676Z"
    }
   },
   "cell_type": "code",
   "source": "# pip install BeautifulSoup4",
   "id": "8ebd3a22548f4af2",
   "outputs": [],
   "execution_count": 161
  },
  {
   "metadata": {
    "ExecuteTime": {
     "end_time": "2025-02-02T09:07:43.878036Z",
     "start_time": "2025-02-02T09:07:43.872549Z"
    }
   },
   "cell_type": "code",
   "source": [
    "with open(PATH_TO_BLOG/\"index.html\") as index:\n",
    "    soup = Soup(index.read())"
   ],
   "id": "90aae2272c1d7375",
   "outputs": [],
   "execution_count": 162
  },
  {
   "metadata": {
    "ExecuteTime": {
     "end_time": "2025-02-02T09:07:43.897386Z",
     "start_time": "2025-02-02T09:07:43.893182Z"
    }
   },
   "cell_type": "code",
   "source": "str(soup)",
   "id": "940ffe5f0c113a5c",
   "outputs": [
    {
     "data": {
      "text/plain": [
       "'jakdfdjfkljasfljdjflsdajf'"
      ]
     },
     "execution_count": 163,
     "metadata": {},
     "output_type": "execute_result"
    }
   ],
   "execution_count": 163
  },
  {
   "metadata": {
    "ExecuteTime": {
     "end_time": "2025-02-02T09:07:43.918223Z",
     "start_time": "2025-02-02T09:07:43.915408Z"
    }
   },
   "cell_type": "code",
   "source": [
    "# checking duplicate links\n",
    "\n",
    "# write blog post link ---> index.html"
   ],
   "id": "4bd719ad1f7a8231",
   "outputs": [],
   "execution_count": 164
  },
  {
   "metadata": {
    "ExecuteTime": {
     "end_time": "2025-02-02T09:09:53.219893Z",
     "start_time": "2025-02-02T09:09:53.213704Z"
    }
   },
   "cell_type": "code",
   "source": [
    "def check_for_duplicate_links(path_to_new_content, links):\n",
    "    if not links:  # Если `links` пуст, то нет дубликатов\n",
    "        return False\n",
    "\n",
    "    urls = [str(link.get(\"href\")) for link in links]  # Теперь эта строка безопасна\n",
    "    content_path = str(Path(*path_to_new_content.parts[-2:]))\n",
    "    \n",
    "    return content_path in urls\n"
   ],
   "id": "e5cb9e505272ccfb",
   "outputs": [],
   "execution_count": 171
  },
  {
   "metadata": {
    "ExecuteTime": {
     "end_time": "2025-02-02T09:09:56.830586Z",
     "start_time": "2025-02-02T09:09:56.824313Z"
    }
   },
   "cell_type": "code",
   "source": [
    "def write_to_index(path_to_new_content):\n",
    "    with open(PATH_TO_BLOG/'index.html') as index:\n",
    "        soup = Soup(index.read())\n",
    "        \n",
    "    links = soup.find_all(\"a\")    \n",
    "    \n",
    "    # Проверяем, есть ли ссылки\n",
    "    if not links:\n",
    "        raise ValueError(\"No links found in index.html. Cannot insert new blog post.\")\n",
    "    \n",
    "    last_link = links[-1]  # Теперь эта строка безопасна\n",
    "\n",
    "    if check_for_duplicate_links(path_to_new_content, links):\n",
    "        raise ValueError(\"Link already exists\")\n",
    "    \n",
    "    links_to_new_blog = soup.new_tag(\"a\",href=Path(*path_to_new_content.parts[-2:]))\n",
    "    links_to_new_blog.string = path_to_new_content.name.split('.')[0]\n",
    "    last_link.insert_after(links_to_new_blog)\n",
    "    \n",
    "    with open(PATH_TO_BLOG/'index.html', 'w') as f:\n",
    "        f.write(str(soup.prettify(formatter=\"html\")))"
   ],
   "id": "974340f088d323a8",
   "outputs": [],
   "execution_count": 172
  },
  {
   "metadata": {
    "ExecuteTime": {
     "end_time": "2025-02-02T09:10:00.389909Z",
     "start_time": "2025-02-02T09:10:00.353013Z"
    }
   },
   "cell_type": "code",
   "source": "write_to_index(path_to_new_content)",
   "id": "f70c784da3a2a710",
   "outputs": [
    {
     "ename": "ValueError",
     "evalue": "No links found in index.html. Cannot insert new blog post.",
     "output_type": "error",
     "traceback": [
      "\u001B[1;31m---------------------------------------------------------------------------\u001B[0m",
      "\u001B[1;31mValueError\u001B[0m                                Traceback (most recent call last)",
      "Cell \u001B[1;32mIn[173], line 1\u001B[0m\n\u001B[1;32m----> 1\u001B[0m \u001B[43mwrite_to_index\u001B[49m\u001B[43m(\u001B[49m\u001B[43mpath_to_new_content\u001B[49m\u001B[43m)\u001B[49m\n",
      "Cell \u001B[1;32mIn[172], line 9\u001B[0m, in \u001B[0;36mwrite_to_index\u001B[1;34m(path_to_new_content)\u001B[0m\n\u001B[0;32m      7\u001B[0m \u001B[38;5;66;03m# Проверяем, есть ли ссылки\u001B[39;00m\n\u001B[0;32m      8\u001B[0m \u001B[38;5;28;01mif\u001B[39;00m \u001B[38;5;129;01mnot\u001B[39;00m links:\n\u001B[1;32m----> 9\u001B[0m     \u001B[38;5;28;01mraise\u001B[39;00m \u001B[38;5;167;01mValueError\u001B[39;00m(\u001B[38;5;124m\"\u001B[39m\u001B[38;5;124mNo links found in index.html. Cannot insert new blog post.\u001B[39m\u001B[38;5;124m\"\u001B[39m)\n\u001B[0;32m     11\u001B[0m last_link \u001B[38;5;241m=\u001B[39m links[\u001B[38;5;241m-\u001B[39m\u001B[38;5;241m1\u001B[39m]  \u001B[38;5;66;03m# Теперь эта строка безопасна\u001B[39;00m\n\u001B[0;32m     13\u001B[0m \u001B[38;5;28;01mif\u001B[39;00m check_for_duplicate_links(path_to_new_content, links):\n",
      "\u001B[1;31mValueError\u001B[0m: No links found in index.html. Cannot insert new blog post."
     ]
    }
   ],
   "execution_count": 173
  },
  {
   "metadata": {
    "ExecuteTime": {
     "end_time": "2025-02-02T09:07:44.072526Z",
     "start_time": "2025-02-02T08:40:45.703237Z"
    }
   },
   "cell_type": "code",
   "source": "update_blog()",
   "id": "f98f186ea769a16a",
   "outputs": [],
   "execution_count": 63
  },
  {
   "metadata": {},
   "cell_type": "code",
   "outputs": [],
   "execution_count": null,
   "source": "",
   "id": "7461ddf12d877bc8"
  }
 ],
 "metadata": {
  "kernelspec": {
   "display_name": "Python 3",
   "language": "python",
   "name": "python3"
  },
  "language_info": {
   "codemirror_mode": {
    "name": "ipython",
    "version": 2
   },
   "file_extension": ".py",
   "mimetype": "text/x-python",
   "name": "python",
   "nbconvert_exporter": "python",
   "pygments_lexer": "ipython2",
   "version": "2.7.6"
  }
 },
 "nbformat": 4,
 "nbformat_minor": 5
}
